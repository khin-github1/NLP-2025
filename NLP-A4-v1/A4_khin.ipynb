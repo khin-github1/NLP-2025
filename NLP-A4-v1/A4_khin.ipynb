{
 "cells": [
  {
   "attachments": {},
   "cell_type": "markdown",
   "metadata": {
    "id": "bSz5jzj61nHc"
   },
   "source": [
    "# BERT"
   ]
  },
  {
   "cell_type": "code",
   "execution_count": 6,
   "metadata": {},
   "outputs": [],
   "source": [
    "# import necessary library\n",
    "import math\n",
    "import re\n",
    "from random import *\n",
    "import numpy as np\n",
    "import torch\n",
    "import torch.nn as nn\n",
    "import torch.optim as optim\n",
    "import torch.nn.functional as F\n",
    "import re\n",
    "import time\n",
    "import datasets\n",
    "import os"
   ]
  },
  {
   "cell_type": "code",
   "execution_count": 7,
   "metadata": {},
   "outputs": [
    {
     "name": "stdout",
     "output_type": "stream",
     "text": [
      "CUDA is not available. No GPUs detected.\n"
     ]
    }
   ],
   "source": [
    "import torch\n",
    "\n",
    "# Check if CUDA is available\n",
    "if torch.cuda.is_available():\n",
    "    # Get the number of GPUs\n",
    "    num_gpus = torch.cuda.device_count()\n",
    "    print(f\"Number of GPUs available: {num_gpus}\")\n",
    "    \n",
    "    # List all GPU devices\n",
    "    for i in range(num_gpus):\n",
    "        print(f\"GPU {i}: {torch.cuda.get_device_name(i)}\")\n",
    "else:\n",
    "    print(\"CUDA is not available. No GPUs detected.\")"
   ]
  },
  {
   "cell_type": "code",
   "execution_count": 8,
   "metadata": {},
   "outputs": [
    {
     "name": "stdout",
     "output_type": "stream",
     "text": [
      "cpu\n"
     ]
    }
   ],
   "source": [
    "device = torch.device(\"cuda\" if torch.cuda.is_available() else \"cpu\")\n",
    "device\n",
    "print(device)\n",
    "\n",
    "#make our work comparable if restarted the kernel\n",
    "SEED = 1234\n",
    "torch.manual_seed(SEED)\n",
    "torch.backends.cudnn.deterministic = True"
   ]
  },
  {
   "cell_type": "markdown",
   "metadata": {},
   "source": [
    "# Task1"
   ]
  },
  {
   "cell_type": "markdown",
   "metadata": {},
   "source": [
    "## 1. Data"
   ]
  },
  {
   "cell_type": "code",
   "execution_count": 9,
   "metadata": {},
   "outputs": [
    {
     "data": {
      "text/plain": [
       "Dataset({\n",
       "    features: ['text'],\n",
       "    num_rows: 740042\n",
       "})"
      ]
     },
     "execution_count": 9,
     "metadata": {},
     "output_type": "execute_result"
    }
   ],
   "source": [
    "from datasets import load_dataset\n",
    "\n",
    "# Load BookCorpus dataset\n",
    "# The first 1% of `train` split.\n",
    "dataset = load_dataset('bookcorpus', split='train[:1%]')\n",
    "#dataset = dataset.select(range(100000))\n",
    "dataset"
   ]
  },
  {
   "attachments": {},
   "cell_type": "markdown",
   "metadata": {},
   "source": [
    "## 2. Preprocessing\n",
    "\n",
    "### Tokenization and numericalization"
   ]
  },
  {
   "cell_type": "code",
   "execution_count": 10,
   "metadata": {},
   "outputs": [],
   "source": [
    "sentences = dataset['text']\n",
    "text = [x.lower() for x in sentences] #lower case\n",
    "text = [re.sub(\"[.,!?\\\\-]\", '', x) for x in text] #clean all symbols\n",
    "# text"
   ]
  },
  {
   "cell_type": "code",
   "execution_count": 11,
   "metadata": {},
   "outputs": [],
   "source": [
    "# making vocab list\n",
    "word_list = list(set(\" \".join(text).split()))\n",
    "word2id   = {'[PAD]': 0, '[CLS]': 1, '[SEP]': 2, '[MASK]': 3}"
   ]
  },
  {
   "cell_type": "code",
   "execution_count": 12,
   "metadata": {},
   "outputs": [
    {
     "name": "stdout",
     "output_type": "stream",
     "text": [
      "usually  he would be tearing around the living room  playing with his toys  _____\n",
      "['usually', 'he', 'would', 'be', 'tearing', 'around', 'the', 'living', 'room', 'playing', 'with', 'his', 'toys']\n"
     ]
    }
   ],
   "source": [
    "for sentence in text:\n",
    "    print(sentence, \"_____\")\n",
    "    words = sentence.split()\n",
    "    print(words)\n",
    "    break"
   ]
  },
  {
   "cell_type": "code",
   "execution_count": 13,
   "metadata": {},
   "outputs": [
    {
     "name": "stderr",
     "output_type": "stream",
     "text": [
      "Creating word2id: 60301it [00:00, 4688144.83it/s]\n"
     ]
    },
    {
     "data": {
      "text/plain": [
       "60305"
      ]
     },
     "execution_count": 13,
     "metadata": {},
     "output_type": "execute_result"
    }
   ],
   "source": [
    "from tqdm.auto import tqdm\n",
    "\n",
    "# Combine everything into one to make vocab\n",
    "word_list = list(set(\" \".join(text).split()))\n",
    "word2id = {'[PAD]': 0, '[CLS]': 1, '[SEP]': 2, '[MASK]': 3}  # special tokens\n",
    "\n",
    "# Create the word2id in a single pass\n",
    "for i, w in tqdm(enumerate(word_list), desc=\"Creating word2id\"):\n",
    "    word2id[w] = i + 4  # because 0-3 are already occupied\n",
    "\n",
    "# Precompute the id2word mapping (this can be done once after word2id is fully populated)\n",
    "id2word = {v: k for k, v in word2id.items()}\n",
    "vocab_size = len(word2id)\n",
    "vocab_size"
   ]
  },
  {
   "cell_type": "code",
   "execution_count": 14,
   "metadata": {},
   "outputs": [
    {
     "data": {
      "text/plain": [
       "740042"
      ]
     },
     "execution_count": 14,
     "metadata": {},
     "output_type": "execute_result"
    }
   ],
   "source": [
    "len(sentences)"
   ]
  },
  {
   "cell_type": "code",
   "execution_count": 15,
   "metadata": {},
   "outputs": [
    {
     "name": "stderr",
     "output_type": "stream",
     "text": [
      "Processing sentences: 100%|██████████| 740042/740042 [00:02<00:00, 362197.57it/s]\n"
     ]
    }
   ],
   "source": [
    "vocab_size = len(word2id)\n",
    "\n",
    "# List of all tokens for the whole text\n",
    "token_list = []\n",
    "\n",
    "# Process sentences more efficiently\n",
    "for sentence in tqdm(text, desc=\"Processing sentences\"):\n",
    "    token_list.append([word2id[word] for word in sentence.split()])"
   ]
  },
  {
   "attachments": {},
   "cell_type": "markdown",
   "metadata": {},
   "source": [
    "## 3. Data loader"
   ]
  },
  {
   "cell_type": "code",
   "execution_count": 16,
   "metadata": {},
   "outputs": [],
   "source": [
    "# assign some hyperparameter\n",
    "batch_size = 6\n",
    "max_mask   = 5 \n",
    "max_len    = 200 "
   ]
  },
  {
   "cell_type": "code",
   "execution_count": 17,
   "metadata": {},
   "outputs": [],
   "source": [
    "# create batch that has half for positive and another half for negative\n",
    "def make_batch():\n",
    "    batch = []\n",
    "    positive = negative = 0\n",
    "    while positive != batch_size / 2 or negative != batch_size / 2: # if positive is half, negative is also half\n",
    "        \n",
    "        #randomly choose two sentence\n",
    "        tokens_a_index, tokens_b_index = randrange(len(sentences)), randrange(len(sentences))\n",
    "        tokens_a, tokens_b            = token_list[tokens_a_index], token_list[tokens_b_index]\n",
    "        \n",
    "        #1. token embedding - add CLS and SEP on starting and ending of sentence respectively\n",
    "        input_ids = [word2id['[CLS]']] + tokens_a + [word2id['[SEP]']] + tokens_b + [word2id['[SEP]']]\n",
    "        \n",
    "        #2. segment embedding - which sentence is 0 (first sentence) and 1 (second sentence)\n",
    "        segment_ids = [0] * (1 + len(tokens_a) + 1) + [1] * (len(tokens_b) + 1)\n",
    "        \n",
    "        #3 masking\n",
    "        n_pred = min(max_mask, max(1, int(round(len(input_ids) * 0.15))))\n",
    "        #get all the pos excluding CLS and SEP\n",
    "        candidates_masked_pos = [i for i, token in enumerate(input_ids) if token != word2id['[CLS]'] \n",
    "                                 and token != word2id['[SEP]']]\n",
    "        shuffle(candidates_masked_pos)\n",
    "        masked_tokens, masked_pos = [], [] #compare the output with masked_tokens\n",
    "        #simply loop and mask accordingly\n",
    "        for pos in candidates_masked_pos[:n_pred]:\n",
    "            masked_pos.append(pos)\n",
    "            masked_tokens.append(input_ids[pos])\n",
    "            if random() < 0.1:  #10% replace with random token\n",
    "                index = randint(0, vocab_size - 1)\n",
    "                input_ids[pos] = word2id[id2word[index]]\n",
    "            elif random() < 0.8:  #80 replace with [MASK]\n",
    "                input_ids[pos] = word2id['[MASK]']\n",
    "            else: \n",
    "                pass\n",
    "            \n",
    "        #4. pad the sentence to the max length\n",
    "        n_pad = max_len - len(input_ids)\n",
    "        input_ids.extend([0] * n_pad)\n",
    "        segment_ids.extend([0] * n_pad)\n",
    "        \n",
    "        #5. pad the mask tokens to the max length\n",
    "        if max_mask > n_pred:\n",
    "            n_pad = max_mask - n_pred\n",
    "            masked_tokens.extend([0] * n_pad)\n",
    "            masked_pos.extend([0] * n_pad)\n",
    "        \n",
    "        #6. check whether is positive or negative\n",
    "        if tokens_a_index + 1 == tokens_b_index and positive < batch_size / 2:\n",
    "            batch.append([input_ids, segment_ids, masked_tokens, masked_pos, True]) # True = it is the next sentence\n",
    "            positive += 1\n",
    "        elif tokens_a_index + 1 != tokens_b_index and negative < batch_size / 2:\n",
    "            batch.append([input_ids, segment_ids, masked_tokens, masked_pos, False])\n",
    "            negative += 1\n",
    "        \n",
    "    return batch\n",
    "        "
   ]
  },
  {
   "cell_type": "code",
   "execution_count": 18,
   "metadata": {},
   "outputs": [],
   "source": [
    "# check the make_batch to ensure that it work correctly\n",
    "batch = make_batch()"
   ]
  },
  {
   "cell_type": "code",
   "execution_count": 19,
   "metadata": {},
   "outputs": [
    {
     "data": {
      "text/plain": [
       "6"
      ]
     },
     "execution_count": 19,
     "metadata": {},
     "output_type": "execute_result"
    }
   ],
   "source": [
    "len(batch)"
   ]
  },
  {
   "cell_type": "code",
   "execution_count": 20,
   "metadata": {},
   "outputs": [],
   "source": [
    "input_ids, segment_ids, masked_tokens, masked_pos, isNext = map(torch.LongTensor, zip(*batch))"
   ]
  },
  {
   "cell_type": "code",
   "execution_count": 21,
   "metadata": {},
   "outputs": [
    {
     "data": {
      "text/plain": [
       "(torch.Size([6, 200]),\n",
       " torch.Size([6, 200]),\n",
       " torch.Size([6, 5]),\n",
       " torch.Size([6, 5]),\n",
       " tensor([0, 0, 0, 1, 1, 1]))"
      ]
     },
     "execution_count": 21,
     "metadata": {},
     "output_type": "execute_result"
    }
   ],
   "source": [
    "input_ids.shape, segment_ids.shape, masked_tokens.shape, masked_pos.shape, isNext"
   ]
  },
  {
   "attachments": {},
   "cell_type": "markdown",
   "metadata": {},
   "source": [
    "## 4. Model\n"
   ]
  },
  {
   "attachments": {},
   "cell_type": "markdown",
   "metadata": {},
   "source": [
    "## 4.1 Embedding\n",
    "\n"
   ]
  },
  {
   "cell_type": "code",
   "execution_count": 22,
   "metadata": {},
   "outputs": [],
   "source": [
    "class Embedding(nn.Module):\n",
    "    def __init__(self):\n",
    "        super(Embedding, self).__init__()\n",
    "        self.tok_embed = nn.Embedding(vocab_size, d_model)  # token embedding\n",
    "        self.pos_embed = nn.Embedding(max_len, d_model)      # position embedding\n",
    "        self.seg_embed = nn.Embedding(n_segments, d_model)  # segment(token type) embedding\n",
    "        self.norm = nn.LayerNorm(d_model)\n",
    "\n",
    "    def forward(self, x, seg):\n",
    "        #x, seg: (bs, len)\n",
    "        seq_len = x.size(1)\n",
    "        pos = torch.arange(seq_len, dtype=torch.long)\n",
    "        pos = pos.unsqueeze(0).expand_as(x)  # (len,) -> (bs, len)\n",
    "        embedding = self.tok_embed(x) + self.pos_embed(pos) + self.seg_embed(seg)\n",
    "        return self.norm(embedding)"
   ]
  },
  {
   "cell_type": "markdown",
   "metadata": {},
   "source": [
    "## 4.2 Attention mask"
   ]
  },
  {
   "cell_type": "code",
   "execution_count": 23,
   "metadata": {
    "id": "s1PGksqBNuZM"
   },
   "outputs": [],
   "source": [
    "def get_attn_pad_mask(seq_q, seq_k):\n",
    "    batch_size, len_q = seq_q.size()\n",
    "    batch_size, len_k = seq_k.size()\n",
    "    # eq(zero) is PAD token\n",
    "    pad_attn_mask = seq_k.data.eq(0).unsqueeze(1)  # batch_size x 1 x len_k(=len_q), one is masking\n",
    "    return pad_attn_mask.expand(batch_size, len_q, len_k)  # batch_size x len_q x len_k"
   ]
  },
  {
   "cell_type": "markdown",
   "metadata": {},
   "source": [
    "### Testing the attention mask"
   ]
  },
  {
   "cell_type": "code",
   "execution_count": 24,
   "metadata": {},
   "outputs": [
    {
     "name": "stdout",
     "output_type": "stream",
     "text": [
      "torch.Size([6, 200, 200])\n"
     ]
    }
   ],
   "source": [
    "print(get_attn_pad_mask(input_ids, input_ids).shape)"
   ]
  },
  {
   "attachments": {},
   "cell_type": "markdown",
   "metadata": {},
   "source": [
    "## 4.3 Encoder"
   ]
  },
  {
   "cell_type": "code",
   "execution_count": 25,
   "metadata": {},
   "outputs": [],
   "source": [
    "class EncoderLayer(nn.Module):\n",
    "    def __init__(self):\n",
    "        super(EncoderLayer, self).__init__()\n",
    "        self.enc_self_attn = MultiHeadAttention()\n",
    "        self.pos_ffn       = PoswiseFeedForwardNet()\n",
    "\n",
    "    def forward(self, enc_inputs, enc_self_attn_mask):\n",
    "        enc_outputs, attn = self.enc_self_attn(enc_inputs, enc_inputs, enc_inputs, enc_self_attn_mask) # enc_inputs to same Q,K,V\n",
    "        enc_outputs = self.pos_ffn(enc_outputs) # enc_outputs: [batch_size x len_q x d_model]\n",
    "        return enc_outputs, attn"
   ]
  },
  {
   "cell_type": "markdown",
   "metadata": {},
   "source": [
    "Let's define the scaled dot attention, to be used inside the multihead attention"
   ]
  },
  {
   "cell_type": "code",
   "execution_count": 26,
   "metadata": {},
   "outputs": [],
   "source": [
    "class ScaledDotProductAttention(nn.Module):\n",
    "    def __init__(self):\n",
    "        super(ScaledDotProductAttention, self).__init__()\n",
    "\n",
    "    def forward(self, Q, K, V, attn_mask):\n",
    "        scores = torch.matmul(Q, K.transpose(-1, -2)) / np.sqrt(d_k) # scores : [batch_size x n_heads x len_q(=len_k) x len_k(=len_q)]\n",
    "        scores.masked_fill_(attn_mask, -1e9) # Fills elements of self tensor with value where mask is one.\n",
    "        attn = nn.Softmax(dim=-1)(scores)\n",
    "        context = torch.matmul(attn, V)\n",
    "        return context, attn "
   ]
  },
  {
   "cell_type": "markdown",
   "metadata": {},
   "source": [
    "Let's define the parameters first"
   ]
  },
  {
   "cell_type": "code",
   "execution_count": 27,
   "metadata": {},
   "outputs": [],
   "source": [
    "n_layers = 6    # number of Encoder of Encoder Layer\n",
    "n_heads  = 8    # number of heads in Multi-Head Attention\n",
    "d_model  = 768  # Embedding Size\n",
    "d_ff = 768 * 4  # 4*d_model, FeedForward dimension\n",
    "d_k = d_v = 64  # dimension of K(=Q), V\n",
    "n_segments = 2"
   ]
  },
  {
   "cell_type": "markdown",
   "metadata": {},
   "source": [
    "Here is the Multiheadattention."
   ]
  },
  {
   "cell_type": "code",
   "execution_count": 28,
   "metadata": {},
   "outputs": [],
   "source": [
    "class MultiHeadAttention(nn.Module):\n",
    "    def __init__(self):\n",
    "        super(MultiHeadAttention, self).__init__()\n",
    "        self.W_Q = nn.Linear(d_model, d_k * n_heads)\n",
    "        self.W_K = nn.Linear(d_model, d_k * n_heads)\n",
    "        self.W_V = nn.Linear(d_model, d_v * n_heads)\n",
    "    def forward(self, Q, K, V, attn_mask):\n",
    "        # q: [batch_size x len_q x d_model], k: [batch_size x len_k x d_model], v: [batch_size x len_k x d_model]\n",
    "        residual, batch_size = Q, Q.size(0)\n",
    "        # (B, S, D) -proj-> (B, S, D) -split-> (B, S, H, W) -trans-> (B, H, S, W)\n",
    "        q_s = self.W_Q(Q).view(batch_size, -1, n_heads, d_k).transpose(1,2)  # q_s: [batch_size x n_heads x len_q x d_k]\n",
    "        k_s = self.W_K(K).view(batch_size, -1, n_heads, d_k).transpose(1,2)  # k_s: [batch_size x n_heads x len_k x d_k]\n",
    "        v_s = self.W_V(V).view(batch_size, -1, n_heads, d_v).transpose(1,2)  # v_s: [batch_size x n_heads x len_k x d_v]\n",
    "\n",
    "        attn_mask = attn_mask.unsqueeze(1).repeat(1, n_heads, 1, 1) # attn_mask : [batch_size x n_heads x len_q x len_k]\n",
    "\n",
    "        # context: [batch_size x n_heads x len_q x d_v], attn: [batch_size x n_heads x len_q(=len_k) x len_k(=len_q)]\n",
    "        context, attn = ScaledDotProductAttention()(q_s, k_s, v_s, attn_mask)\n",
    "        context = context.transpose(1, 2).contiguous().view(batch_size, -1, n_heads * d_v) # context: [batch_size x len_q x n_heads * d_v]\n",
    "        output = nn.Linear(n_heads * d_v, d_model)(context)\n",
    "        return nn.LayerNorm(d_model)(output + residual), attn # output: [batch_size x len_q x d_model]\n"
   ]
  },
  {
   "attachments": {},
   "cell_type": "markdown",
   "metadata": {},
   "source": [
    "Here is the PoswiseFeedForwardNet."
   ]
  },
  {
   "cell_type": "code",
   "execution_count": 29,
   "metadata": {},
   "outputs": [],
   "source": [
    "class PoswiseFeedForwardNet(nn.Module):\n",
    "    def __init__(self):\n",
    "        super(PoswiseFeedForwardNet, self).__init__()\n",
    "        self.fc1 = nn.Linear(d_model, d_ff)\n",
    "        self.fc2 = nn.Linear(d_ff, d_model)\n",
    "\n",
    "    def forward(self, x):\n",
    "        # (batch_size, len_seq, d_model) -> (batch_size, len_seq, d_ff) -> (batch_size, len_seq, d_model)\n",
    "        return self.fc2(F.gelu(self.fc1(x)))\n"
   ]
  },
  {
   "cell_type": "markdown",
   "metadata": {},
   "source": [
    "## 4.4 Putting them together"
   ]
  },
  {
   "cell_type": "code",
   "execution_count": 30,
   "metadata": {
    "id": "OZ0TJ84W4SZw"
   },
   "outputs": [],
   "source": [
    "class BERT(nn.Module):\n",
    "    def __init__(self):\n",
    "        super(BERT, self).__init__()\n",
    "        self.embedding = Embedding()\n",
    "        self.layers = nn.ModuleList([EncoderLayer() for _ in range(n_layers)])\n",
    "        self.fc = nn.Linear(d_model, d_model)\n",
    "        self.activ = nn.Tanh()\n",
    "        self.linear = nn.Linear(d_model, d_model)\n",
    "        self.norm = nn.LayerNorm(d_model)\n",
    "        self.classifier = nn.Linear(d_model, 2)\n",
    "        # decoder is shared with embedding layer\n",
    "        embed_weight = self.embedding.tok_embed.weight\n",
    "        n_vocab, n_dim = embed_weight.size()\n",
    "        self.decoder = nn.Linear(n_dim, n_vocab, bias=False)\n",
    "        self.decoder.weight = embed_weight\n",
    "        self.decoder_bias = nn.Parameter(torch.zeros(n_vocab))\n",
    "\n",
    "    def forward(self, input_ids, segment_ids, masked_pos):\n",
    "        output = self.embedding(input_ids, segment_ids)\n",
    "        enc_self_attn_mask = get_attn_pad_mask(input_ids, input_ids)\n",
    "        for layer in self.layers:\n",
    "            output, enc_self_attn = layer(output, enc_self_attn_mask)\n",
    "        # output : [batch_size, len, d_model], attn : [batch_size, n_heads, d_mode, d_model]\n",
    "        \n",
    "        # 1. predict next sentence\n",
    "        # it will be decided by first token(CLS)\n",
    "        h_pooled   = self.activ(self.fc(output[:, 0])) # [batch_size, d_model]\n",
    "        logits_nsp = self.classifier(h_pooled) # [batch_size, 2]\n",
    "\n",
    "        # 2. predict the masked token\n",
    "        masked_pos = masked_pos[:, :, None].expand(-1, -1, output.size(-1)) # [batch_size, max_pred, d_model]\n",
    "        h_masked = torch.gather(output, 1, masked_pos) # masking position [batch_size, max_pred, d_model]\n",
    "        h_masked  = self.norm(F.gelu(self.linear(h_masked)))\n",
    "        logits_lm = self.decoder(h_masked) + self.decoder_bias # [batch_size, max_pred, n_vocab]\n",
    "\n",
    "        return logits_lm, logits_nsp"
   ]
  },
  {
   "attachments": {},
   "cell_type": "markdown",
   "metadata": {},
   "source": [
    "## 5. Training"
   ]
  },
  {
   "cell_type": "code",
   "execution_count": 31,
   "metadata": {},
   "outputs": [],
   "source": [
    "def epoch_time(start_time, end_time):\n",
    "    elapsed_time = end_time - start_time\n",
    "    elapsed_mins = int(elapsed_time / 60)\n",
    "    elapsed_secs = int(elapsed_time - (elapsed_mins * 60))\n",
    "    return elapsed_mins, elapsed_secs"
   ]
  },
  {
   "cell_type": "code",
   "execution_count": 32,
   "metadata": {
    "colab": {
     "base_uri": "https://localhost:8080/"
    },
    "id": "8UAG3SEP4UbU",
    "outputId": "bc6f202f-df37-4fac-843c-fb86bdb777b2"
   },
   "outputs": [
    {
     "name": "stdout",
     "output_type": "stream",
     "text": [
      "Epoch: 00 loss = 115.965813\n",
      "Epoch: 100 loss = 4.064146\n",
      "Epoch: 200 loss = 4.383498\n",
      "Epoch: 300 loss = 5.561941\n",
      "Epoch: 400 loss = 6.128051\n",
      "Epoch: 500 loss = 3.934734\n",
      "Epoch: 600 loss = 4.089477\n",
      "Epoch: 700 loss = 3.599619\n",
      "Epoch: 800 loss = 3.912139\n",
      "Epoch: 900 loss = 5.305858\n",
      "Time: 42m 50s\n"
     ]
    }
   ],
   "source": [
    "num_epoch = 1000\n",
    "model = BERT()\n",
    "criterion = nn.CrossEntropyLoss()\n",
    "optimizer = optim.Adam(model.parameters(), lr=0.001)\n",
    "\n",
    "batch = make_batch()\n",
    "input_ids, segment_ids, masked_tokens, masked_pos, isNext = map(torch.LongTensor, zip(*batch))\n",
    "\n",
    "best_loss = float('inf')\n",
    "\n",
    "start_time = time.time()\n",
    "for epoch in range(num_epoch):\n",
    "    optimizer.zero_grad()\n",
    "    logits_lm, logits_nsp = model(input_ids, segment_ids, masked_pos)    \n",
    "\n",
    "    #1. mlm loss\n",
    "    #logits_lm.transpose: (bs, vocab_size, max_mask) vs. masked_tokens: (bs, max_mask)\n",
    "    loss_lm = criterion(logits_lm.transpose(1, 2), masked_tokens) # for masked LM\n",
    "    loss_lm = (loss_lm.float()).mean()\n",
    "    #2. nsp loss\n",
    "    #logits_nsp: (bs, 2) vs. isNext: (bs, )\n",
    "    loss_nsp = criterion(logits_nsp, isNext) # for sentence classification\n",
    "    \n",
    "    #3. combine loss\n",
    "    loss = loss_lm + loss_nsp\n",
    "    if loss < best_loss:\n",
    "        best_loss = loss\n",
    "        torch.save(model.state_dict(), 'app/models/best-bert-model.pt')\n",
    "\n",
    "    if epoch % 100 == 0:\n",
    "        print('Epoch:', '%02d' % (epoch), 'loss =', '{:.6f}'.format(loss))\n",
    "    loss.backward()\n",
    "    optimizer.step()\n",
    "\n",
    "end_time = time.time()\n",
    "epoch_mins, epoch_secs = epoch_time(start_time, end_time)\n",
    "print(f'Time: {epoch_mins}m {epoch_secs}s')"
   ]
  },
  {
   "cell_type": "markdown",
   "metadata": {},
   "source": [
    "## 6. Inference\n",
    "\n",
    "Since our dataset is very small, it won't work very well, but just for the sake of demonstration."
   ]
  },
  {
   "cell_type": "code",
   "execution_count": 38,
   "metadata": {},
   "outputs": [
    {
     "name": "stdout",
     "output_type": "stream",
     "text": [
      "['[CLS]', 'i', 'just', 'thought', \"'\", 'she', 'swallowed', 'hard', 'fighting', '[MASK]', 'prevent', 'her', 'throat', '[MASK]', 'seizing', 'up', '[SEP]', 'her', 'eyes', 'widened', '[SEP]']\n",
      "masked tokens (words) :  ['from', 'to', 'her', '[PAD]', '[PAD]']\n",
      "masked tokens list :  [13739, 20835, 44990, 0, 0]\n",
      "predict masked tokens (words) :  ['to', 'to', 'her', 'equal', 'equal']\n",
      "predict masked tokens list :  [20835, 20835, 44990, 31658, 31658]\n",
      "0\n",
      "isNext :  False\n",
      "predict isNext :  False\n"
     ]
    }
   ],
   "source": [
    "# Predict mask tokens ans isNext\n",
    "input_ids, segment_ids, masked_tokens, masked_pos, isNext = map(torch.LongTensor, zip(batch[2]))\n",
    "print([id2word[w.item()] for w in input_ids[0] if id2word[w.item()] != '[PAD]'])\n",
    "\n",
    "logits_lm, logits_nsp = model(input_ids, segment_ids, masked_pos)\n",
    "\n",
    "#predict masked tokens\n",
    "#max the probability along the vocab dim (2), [1] is the indices of the max, and [0] is the first value\n",
    "logits_lm = logits_lm.data.max(2)[1][0].data.numpy() \n",
    "#note that zero is padding we add to the masked_tokens\n",
    "print('masked tokens (words) : ',[id2word[pos.item()] for pos in masked_tokens[0]])\n",
    "print('masked tokens list : ',[pos.item() for pos in masked_tokens[0]])\n",
    "print('predict masked tokens (words) : ',[id2word[pos.item()] for pos in logits_lm])\n",
    "print('predict masked tokens list : ', [pos for pos in logits_lm])\n",
    "\n",
    "#predict nsp\n",
    "logits_nsp = logits_nsp.data.max(1)[1][0].data.numpy()\n",
    "print(logits_nsp)\n",
    "print('isNext : ', True if isNext else False)\n",
    "print('predict isNext : ',True if logits_nsp else False)"
   ]
  },
  {
   "cell_type": "markdown",
   "metadata": {},
   "source": [
    "# Task2"
   ]
  },
  {
   "cell_type": "code",
   "execution_count": 39,
   "metadata": {},
   "outputs": [
    {
     "data": {
      "text/plain": [
       "device(type='cpu')"
      ]
     },
     "execution_count": 39,
     "metadata": {},
     "output_type": "execute_result"
    }
   ],
   "source": [
    "device = torch.device(\"cuda\" if torch.cuda.is_available() else \"cpu\")\n",
    "device"
   ]
  },
  {
   "cell_type": "code",
   "execution_count": 40,
   "metadata": {},
   "outputs": [
    {
     "data": {
      "text/plain": [
       "{'premise': Value(dtype='string', id=None),\n",
       " 'hypothesis': Value(dtype='string', id=None),\n",
       " 'label': ClassLabel(names=['entailment', 'neutral', 'contradiction'], id=None),\n",
       " 'idx': Value(dtype='int32', id=None)}"
      ]
     },
     "execution_count": 40,
     "metadata": {},
     "output_type": "execute_result"
    }
   ],
   "source": [
    "# load the MNLI dataset\n",
    "import datasets\n",
    "\n",
    "mnli = datasets.load_dataset('glue', 'mnli')\n",
    "mnli['train'].features"
   ]
  },
  {
   "cell_type": "code",
   "execution_count": 41,
   "metadata": {},
   "outputs": [
    {
     "data": {
      "text/plain": [
       "dict_keys(['train', 'validation_matched', 'validation_mismatched', 'test_matched', 'test_mismatched'])"
      ]
     },
     "execution_count": 41,
     "metadata": {},
     "output_type": "execute_result"
    }
   ],
   "source": [
    "# list of datasets to remove 'idx' column from\n",
    "mnli.column_names.keys()"
   ]
  },
  {
   "cell_type": "code",
   "execution_count": 42,
   "metadata": {},
   "outputs": [],
   "source": [
    "# remove 'idx' column from each dataset\n",
    "for column_names in mnli.column_names.keys():\n",
    "    mnli[column_names] = mnli[column_names].remove_columns('idx')"
   ]
  },
  {
   "cell_type": "code",
   "execution_count": 43,
   "metadata": {},
   "outputs": [
    {
     "data": {
      "text/plain": [
       "dict_keys(['train', 'validation_matched', 'validation_mismatched', 'test_matched', 'test_mismatched'])"
      ]
     },
     "execution_count": 43,
     "metadata": {},
     "output_type": "execute_result"
    }
   ],
   "source": [
    "# list of datasets to ensure that 'idx' column is removed\n",
    "mnli.column_names.keys()"
   ]
  },
  {
   "cell_type": "code",
   "execution_count": 44,
   "metadata": {},
   "outputs": [
    {
     "data": {
      "text/plain": [
       "array([0, 1, 2])"
      ]
     },
     "execution_count": 44,
     "metadata": {},
     "output_type": "execute_result"
    }
   ],
   "source": [
    "# list all label that have in the dataset\n",
    "np.unique(mnli['train']['label'])"
   ]
  },
  {
   "cell_type": "code",
   "execution_count": 45,
   "metadata": {},
   "outputs": [
    {
     "data": {
      "text/plain": [
       "DatasetDict({\n",
       "    train: Dataset({\n",
       "        features: ['premise', 'hypothesis', 'label'],\n",
       "        num_rows: 10000\n",
       "    })\n",
       "    test: Dataset({\n",
       "        features: ['premise', 'hypothesis', 'label'],\n",
       "        num_rows: 1000\n",
       "    })\n",
       "    validation: Dataset({\n",
       "        features: ['premise', 'hypothesis', 'label'],\n",
       "        num_rows: 1000\n",
       "    })\n",
       "})"
      ]
     },
     "execution_count": 45,
     "metadata": {},
     "output_type": "execute_result"
    }
   ],
   "source": [
    "# create dataset dictionary with sample data (since my computer cannot run all dataset)\n",
    "from datasets import DatasetDict\n",
    "\n",
    "raw_dataset = DatasetDict({\n",
    "    'train': mnli['train'].shuffle(seed=55).select(list(range(10000))),\n",
    "    'test': mnli['test_mismatched'].shuffle(seed=55).select(list(range(1000))),\n",
    "    'validation': mnli['validation_mismatched'].shuffle(seed=55).select(list(range(1000)))\n",
    "})\n",
    "\n",
    "raw_dataset"
   ]
  },
  {
   "cell_type": "markdown",
   "metadata": {},
   "source": [
    "### Preprocessing"
   ]
  },
  {
   "cell_type": "code",
   "execution_count": 46,
   "metadata": {},
   "outputs": [
    {
     "name": "stderr",
     "output_type": "stream",
     "text": [
      "Map: 100%|██████████| 10000/10000 [02:39<00:00, 62.74 examples/s]\n",
      "Map: 100%|██████████| 1000/1000 [00:16<00:00, 61.99 examples/s]\n",
      "Map: 100%|██████████| 1000/1000 [00:16<00:00, 59.65 examples/s]\n"
     ]
    }
   ],
   "source": [
    "import torch\n",
    "from random import seed, shuffle, random, randint\n",
    "\n",
    "def preprocess_function(examples):\n",
    "    lst_input_ids_premise = []\n",
    "    lst_input_ids_hypothesis = []\n",
    "    lst_masked_tokens_premise = []\n",
    "    lst_masked_pos_premise = []\n",
    "    lst_masked_tokens_hypothesis = []\n",
    "    lst_masked_pos_hypothesis = []\n",
    "    lst_segment_ids = []\n",
    "    lst_attention_premise = []\n",
    "    lst_attention_hypothesis = []\n",
    "    \n",
    "    labels = examples['label']\n",
    "    max_seq_length = 200  # Ensure all sequences are max length\n",
    "    max_mask = 5         # Define max number of masked tokens\n",
    "    seed(55) \n",
    "\n",
    "    for i in range(len(examples['premise'])):\n",
    "        # Convert words to indices (handle OOV words)\n",
    "        tokens_premise = [word2id[word] if word in word_list else len(word_list) for word in examples['premise'][i].split()]\n",
    "        tokens_hypothesis = [word2id[word] if word in word_list else len(word_list) for word in examples['hypothesis'][i].split()]\n",
    "\n",
    "        # 1. Token Embedding - Add CLS and SEP tokens\n",
    "        input_ids_premise = [word2id['[CLS]']] + tokens_premise + [word2id['[SEP]']]\n",
    "        input_ids_hypothesis = [word2id['[CLS]']] + tokens_hypothesis + [word2id['[SEP]']]\n",
    "\n",
    "        # 2. Segment Embedding (All zeros)\n",
    "        segment_ids = [0] * max_seq_length\n",
    "\n",
    "        # 3. Masking Process (15% of words, excluding CLS/SEP)\n",
    "        def apply_masking(input_ids):\n",
    "            n_pred = min(max_mask, max(1, int(round(len(input_ids) * 0.15))))  # 15% masking\n",
    "            candidates_masked_pos = [idx for idx, token in enumerate(input_ids) if token not in [word2id['[CLS]'], word2id['[SEP]']]]\n",
    "            shuffle(candidates_masked_pos)\n",
    "            \n",
    "            masked_tokens = []\n",
    "            masked_pos = []\n",
    "            \n",
    "            for pos in candidates_masked_pos[:n_pred]:\n",
    "                masked_pos.append(pos)\n",
    "                masked_tokens.append(input_ids[pos])\n",
    "                \n",
    "                if random() < 0.1:  # 10% replace with random token\n",
    "                    input_ids[pos] = word2id[id2word[randint(0, vocab_size - 1)]]\n",
    "                elif random() < 0.8:  # 80% replace with [MASK]\n",
    "                    input_ids[pos] = word2id['[MASK]']\n",
    "            \n",
    "            # Ensure `masked_tokens` and `masked_pos` are `max_mask` in size\n",
    "            masked_tokens = masked_tokens[:max_mask] + [0] * (max_mask - len(masked_tokens))\n",
    "            masked_pos = masked_pos[:max_mask] + [0] * (max_mask - len(masked_pos))\n",
    "            \n",
    "            return masked_tokens, masked_pos\n",
    "\n",
    "        masked_tokens_premise, masked_pos_premise = apply_masking(input_ids_premise)\n",
    "        masked_tokens_hypothesis, masked_pos_hypothesis = apply_masking(input_ids_hypothesis)\n",
    "\n",
    "        # 4. Pad/truncate sequences to `max_seq_length`\n",
    "        input_ids_premise = input_ids_premise[:max_seq_length] + [0] * (max_seq_length - len(input_ids_premise))\n",
    "        input_ids_hypothesis = input_ids_hypothesis[:max_seq_length] + [0] * (max_seq_length - len(input_ids_hypothesis))\n",
    "\n",
    "        # 5. Attention Mask (1 for real tokens, 0 for padding)\n",
    "        attention_premise = [1] * len(input_ids_premise[:max_seq_length]) + [0] * (max_seq_length - len(input_ids_premise))\n",
    "        attention_hypothesis = [1] * len(input_ids_hypothesis[:max_seq_length]) + [0] * (max_seq_length - len(input_ids_hypothesis))\n",
    "\n",
    "        # Store processed values\n",
    "        lst_input_ids_premise.append(input_ids_premise)\n",
    "        lst_input_ids_hypothesis.append(input_ids_hypothesis)\n",
    "        lst_segment_ids.append(segment_ids)\n",
    "        lst_masked_tokens_premise.append(masked_tokens_premise)\n",
    "        lst_masked_pos_premise.append(masked_pos_premise)\n",
    "        lst_masked_tokens_hypothesis.append(masked_tokens_hypothesis)\n",
    "        lst_masked_pos_hypothesis.append(masked_pos_hypothesis)\n",
    "        lst_attention_premise.append(attention_premise)\n",
    "        lst_attention_hypothesis.append(attention_hypothesis)\n",
    "\n",
    "    # Return dictionary in format expected by HuggingFace datasets\n",
    "    return {\n",
    "        \"premise_input_ids\": lst_input_ids_premise,\n",
    "        \"premise_pos_mask\": lst_masked_pos_premise,\n",
    "        \"hypothesis_input_ids\": lst_input_ids_hypothesis,\n",
    "        \"hypothesis_pos_mask\": lst_masked_pos_hypothesis,\n",
    "        \"segment_ids\": lst_segment_ids,\n",
    "        \"attention_premise\": lst_attention_premise,\n",
    "        \"attention_hypothesis\": lst_attention_hypothesis,\n",
    "        \"labels\": labels,\n",
    "    }\n",
    "\n",
    "# Apply the preprocessing function to the dataset\n",
    "tokenized_datasets = raw_dataset.map(preprocess_function, batched=True)\n",
    "\n",
    "# Remove unneeded columns and format dataset for PyTorch\n",
    "tokenized_datasets = tokenized_datasets.remove_columns(['premise', 'hypothesis', 'label'])\n",
    "tokenized_datasets.set_format(\"torch\")\n"
   ]
  },
  {
   "cell_type": "code",
   "execution_count": 47,
   "metadata": {},
   "outputs": [
    {
     "data": {
      "text/plain": [
       "DatasetDict({\n",
       "    train: Dataset({\n",
       "        features: ['premise_input_ids', 'premise_pos_mask', 'hypothesis_input_ids', 'hypothesis_pos_mask', 'segment_ids', 'attention_premise', 'attention_hypothesis', 'labels'],\n",
       "        num_rows: 10000\n",
       "    })\n",
       "    test: Dataset({\n",
       "        features: ['premise_input_ids', 'premise_pos_mask', 'hypothesis_input_ids', 'hypothesis_pos_mask', 'segment_ids', 'attention_premise', 'attention_hypothesis', 'labels'],\n",
       "        num_rows: 1000\n",
       "    })\n",
       "    validation: Dataset({\n",
       "        features: ['premise_input_ids', 'premise_pos_mask', 'hypothesis_input_ids', 'hypothesis_pos_mask', 'segment_ids', 'attention_premise', 'attention_hypothesis', 'labels'],\n",
       "        num_rows: 1000\n",
       "    })\n",
       "})"
      ]
     },
     "execution_count": 47,
     "metadata": {},
     "output_type": "execute_result"
    }
   ],
   "source": [
    "tokenized_datasets"
   ]
  },
  {
   "cell_type": "markdown",
   "metadata": {},
   "source": [
    "### Data loader"
   ]
  },
  {
   "cell_type": "code",
   "execution_count": 48,
   "metadata": {},
   "outputs": [],
   "source": [
    "from torch.utils.data import DataLoader\n",
    "\n",
    "# create the dataloader\n",
    "batch_size = 32\n",
    "train_dataloader = DataLoader(\n",
    "    tokenized_datasets['train'], \n",
    "    batch_size=batch_size, \n",
    "    shuffle=True\n",
    ")\n",
    "eval_dataloader = DataLoader(\n",
    "    tokenized_datasets['validation'], \n",
    "    batch_size=batch_size\n",
    ")\n",
    "test_dataloader = DataLoader(\n",
    "    tokenized_datasets['test'], \n",
    "    batch_size=batch_size\n",
    ")"
   ]
  },
  {
   "cell_type": "code",
   "execution_count": 40,
   "metadata": {},
   "outputs": [
    {
     "name": "stdout",
     "output_type": "stream",
     "text": [
      "torch.Size([32, 200])\n",
      "torch.Size([32, 5])\n",
      "torch.Size([32, 200])\n",
      "torch.Size([32, 5])\n",
      "torch.Size([32, 200])\n",
      "torch.Size([32, 200])\n",
      "torch.Size([32, 200])\n",
      "torch.Size([32])\n"
     ]
    }
   ],
   "source": [
    "# print the shape of each key \n",
    "for batch in train_dataloader:\n",
    "    print(batch['premise_input_ids'].shape)\n",
    "    print(batch['premise_pos_mask'].shape)\n",
    "    print(batch['hypothesis_input_ids'].shape)\n",
    "    print(batch['hypothesis_pos_mask'].shape)\n",
    "    print(batch['segment_ids'].shape)\n",
    "    print(batch['attention_premise'].shape)\n",
    "    print(batch['attention_hypothesis'].shape)\n",
    "    print(batch['labels'].shape)\n",
    "    break"
   ]
  },
  {
   "cell_type": "markdown",
   "metadata": {},
   "source": [
    "### Model"
   ]
  },
  {
   "cell_type": "code",
   "execution_count": 49,
   "metadata": {},
   "outputs": [
    {
     "data": {
      "text/plain": [
       "<All keys matched successfully>"
      ]
     },
     "execution_count": 49,
     "metadata": {},
     "output_type": "execute_result"
    }
   ],
   "source": [
    "# load model from task1\n",
    "model1 = BERT()\n",
    "model1.load_state_dict(torch.load('app/models/best-bert-model.pt'))"
   ]
  },
  {
   "cell_type": "code",
   "execution_count": 50,
   "metadata": {},
   "outputs": [],
   "source": [
    "def mean_pool(token_embeds, attention_mask):\n",
    "    # Ensure attention_mask matches token_embeds length\n",
    "    if attention_mask.shape[1] != token_embeds.shape[1]:\n",
    "        raise ValueError(f\"Mismatch: token_embeds has {token_embeds.shape[1]}, but attention_mask has {attention_mask.shape[1]}\")\n",
    "\n",
    "    # Expand mask and perform mean pooling\n",
    "    in_mask = attention_mask.unsqueeze(-1).float()  # [batch_size, seq_len, 1]\n",
    "    pool = torch.sum(token_embeds * in_mask, dim=1) / torch.clamp(in_mask.sum(dim=1), min=1e-9)\n",
    "\n",
    "    return pool\n",
    "\n"
   ]
  },
  {
   "cell_type": "markdown",
   "metadata": {},
   "source": [
    "### Loss Function"
   ]
  },
  {
   "cell_type": "code",
   "execution_count": 51,
   "metadata": {},
   "outputs": [],
   "source": [
    "# the function is for Classification Objective\n",
    "def configurations(u,v):\n",
    "    # build the |u-v| tensor\n",
    "    uv = torch.sub(u, v)   # batch_size,hidden_dim\n",
    "    uv_abs = torch.abs(uv) # batch_size,hidden_dim\n",
    "    \n",
    "    # concatenate u, v, |u-v|\n",
    "    x = torch.cat([u, v, uv_abs], dim=-1) # batch_size, 3*hidden_dim\n",
    "    return x\n",
    "\n",
    "# the function is for Regression Objective\n",
    "def cosine_similarity(u, v):\n",
    "    dot_product = np.dot(u, v)\n",
    "    norm_u = np.linalg.norm(u)\n",
    "    norm_v = np.linalg.norm(v)\n",
    "    similarity = dot_product / (norm_u * norm_v)\n",
    "    return similarity"
   ]
  },
  {
   "cell_type": "code",
   "execution_count": 52,
   "metadata": {},
   "outputs": [],
   "source": [
    "# classifier_head has shape (vocab_size*3,3)\n",
    "classifier_head = torch.nn.Linear(60305*3, 3).to(device)\n",
    "\n",
    "optimizer = torch.optim.Adam(model1.parameters(), lr=2e-5)\n",
    "optimizer_classifier = torch.optim.Adam(classifier_head.parameters(), lr=2e-5)\n",
    "\n",
    "criterion = nn.CrossEntropyLoss()"
   ]
  },
  {
   "cell_type": "code",
   "execution_count": 53,
   "metadata": {},
   "outputs": [
    {
     "name": "stderr",
     "output_type": "stream",
     "text": [
      "d:\\AIT_lecture\\NLP\\pythonNLP\\Lib\\site-packages\\torch\\optim\\lr_scheduler.py:136: UserWarning: Detected call of `lr_scheduler.step()` before `optimizer.step()`. In PyTorch 1.1.0 and later, you should call them in the opposite order: `optimizer.step()` before `lr_scheduler.step()`.  Failure to do this will result in PyTorch skipping the first value of the learning rate schedule. See more details at https://pytorch.org/docs/stable/optim.html#how-to-adjust-learning-rate\n",
      "  warnings.warn(\"Detected call of `lr_scheduler.step()` before `optimizer.step()`. \"\n"
     ]
    }
   ],
   "source": [
    "from transformers import get_linear_schedule_with_warmup\n",
    "\n",
    "# and setup a warmup for the first ~10% steps\n",
    "total_steps = int(len(raw_dataset) / batch_size)\n",
    "warmup_steps = int(0.1 * total_steps)\n",
    "scheduler = get_linear_schedule_with_warmup(\n",
    "\t\toptimizer, num_warmup_steps=warmup_steps,\n",
    "  \tnum_training_steps=total_steps - warmup_steps\n",
    ")\n",
    "\n",
    "# then during the training loop we update the scheduler per step\n",
    "scheduler.step()\n",
    "\n",
    "scheduler_classifier = get_linear_schedule_with_warmup(\n",
    "\t\toptimizer_classifier, num_warmup_steps=warmup_steps,\n",
    "  \tnum_training_steps=total_steps - warmup_steps\n",
    ")\n",
    "\n",
    "# then during the training loop we update the scheduler per step\n",
    "scheduler_classifier.step()"
   ]
  },
  {
   "cell_type": "markdown",
   "metadata": {},
   "source": [
    "### Training the model1"
   ]
  },
  {
   "cell_type": "code",
   "execution_count": 46,
   "metadata": {},
   "outputs": [
    {
     "name": "stderr",
     "output_type": "stream",
     "text": [
      "100%|██████████| 313/313 [1:44:15<00:00, 19.99s/it]\n"
     ]
    },
    {
     "name": "stdout",
     "output_type": "stream",
     "text": [
      "Epoch: 1 | Loss = 7.943012\n"
     ]
    },
    {
     "name": "stderr",
     "output_type": "stream",
     "text": [
      "100%|██████████| 313/313 [1:48:08<00:00, 20.73s/it]\n"
     ]
    },
    {
     "name": "stdout",
     "output_type": "stream",
     "text": [
      "Epoch: 2 | Loss = 6.284531\n"
     ]
    },
    {
     "name": "stderr",
     "output_type": "stream",
     "text": [
      "100%|██████████| 313/313 [1:48:27<00:00, 20.79s/it]\n"
     ]
    },
    {
     "name": "stdout",
     "output_type": "stream",
     "text": [
      "Epoch: 3 | Loss = 8.375278\n"
     ]
    },
    {
     "name": "stderr",
     "output_type": "stream",
     "text": [
      "100%|██████████| 313/313 [1:53:32<00:00, 21.77s/it]\n"
     ]
    },
    {
     "name": "stdout",
     "output_type": "stream",
     "text": [
      "Epoch: 4 | Loss = 8.771623\n"
     ]
    },
    {
     "name": "stderr",
     "output_type": "stream",
     "text": [
      "100%|██████████| 313/313 [2:09:37<00:00, 24.85s/it]  "
     ]
    },
    {
     "name": "stdout",
     "output_type": "stream",
     "text": [
      "Epoch: 5 | Loss = 8.791630\n",
      "Time: 564m 2s\n"
     ]
    },
    {
     "name": "stderr",
     "output_type": "stream",
     "text": [
      "\n"
     ]
    }
   ],
   "source": [
    "from tqdm.auto import tqdm\n",
    "import time\n",
    "import torch\n",
    "\n",
    "num_epoch = 5  # Increase if needed\n",
    "start_time = time.time()\n",
    "\n",
    "best_loss = float('inf')  # Global best loss\n",
    "\n",
    "for epoch in range(num_epoch):\n",
    "    model1.train()  \n",
    "    classifier_head.train()\n",
    "    best_loss_epoch = float('inf')  # Reset for this epoch\n",
    "\n",
    "    for step, batch in enumerate(tqdm(train_dataloader, leave=True)):\n",
    "        optimizer.zero_grad()\n",
    "        optimizer_classifier.zero_grad()\n",
    "        \n",
    "        # Move to device\n",
    "        inputs_ids_a = batch['premise_input_ids'].to(device)\n",
    "        inputs_ids_b = batch['hypothesis_input_ids'].to(device)\n",
    "        segment_ids = batch['segment_ids'].to(device)\n",
    "        attention_a = batch['attention_premise'].to(device)  # ✅ Correct attention mask\n",
    "        attention_b = batch['attention_hypothesis'].to(device)  # ✅ Correct attention mask\n",
    "        label = batch['labels'].to(device)\n",
    "        \n",
    "        # Extract token embeddings from BERT\n",
    "        u, _ = model1(inputs_ids_a, segment_ids, attention_a)  \n",
    "        v, _ = model1(inputs_ids_b, segment_ids, attention_b)  \n",
    "\n",
    "        # Mean Pooling\n",
    "        u_mean_pool = mean_pool(u, attention_a)  # ✅ Corrected\n",
    "        v_mean_pool = mean_pool(v, attention_b)  # ✅ Corrected\n",
    "        \n",
    "        # Compute similarity vector\n",
    "        uv = torch.sub(u_mean_pool, v_mean_pool)  \n",
    "        uv_abs = torch.abs(uv)\n",
    "        x = torch.cat([u_mean_pool, v_mean_pool, uv_abs], dim=-1) \n",
    "        \n",
    "        # Classify\n",
    "        x = classifier_head(x)  \n",
    "        loss = criterion(x, label)\n",
    "\n",
    "        # Update best loss\n",
    "        if loss.item() < best_loss_epoch:\n",
    "            best_loss_epoch = loss.item()  # Save best loss for this epoch\n",
    "            best_model = model1.state_dict()\n",
    "\n",
    "        # Backpropagation\n",
    "        loss.backward()\n",
    "        optimizer.step()\n",
    "        optimizer_classifier.step()\n",
    "\n",
    "    # Update learning rate scheduler per epoch\n",
    "    scheduler.step()\n",
    "    scheduler_classifier.step()\n",
    "\n",
    "    # Save model per epoch if best\n",
    "    if best_loss_epoch < best_loss:\n",
    "        best_loss = best_loss_epoch\n",
    "        torch.save(best_model, 'app/models/our-model.pt')\n",
    "\n",
    "    print(f'Epoch: {epoch + 1} | Loss = {best_loss_epoch:.6f}')\n",
    "\n",
    "end_time = time.time()\n",
    "epoch_mins, epoch_secs = epoch_time(start_time, end_time)\n",
    "print(f'Time: {epoch_mins}m {epoch_secs}s')\n"
   ]
  },
  {
   "cell_type": "markdown",
   "metadata": {},
   "source": [
    "# Task 3"
   ]
  },
  {
   "cell_type": "code",
   "execution_count": 54,
   "metadata": {},
   "outputs": [],
   "source": [
    "# function for calculate the total parameters\n",
    "def count_parameters(model):\n",
    "    params = [p.numel() for p in model.parameters() if p.requires_grad]\n",
    "    print(f'______\\n{sum(params):>6}')"
   ]
  },
  {
   "cell_type": "code",
   "execution_count": 55,
   "metadata": {},
   "outputs": [],
   "source": [
    "def calculate_loss_model1(model, classifier, criterion, eval_dataloader):\n",
    "    model.eval()\n",
    "    classifier.eval()\n",
    "    \n",
    "    total_loss = 0\n",
    "    with torch.no_grad():\n",
    "        for batch in eval_dataloader:\n",
    "            # Move data to device\n",
    "            inputs_ids_a = batch['premise_input_ids'].to(device)\n",
    "            inputs_ids_b = batch['hypothesis_input_ids'].to(device)\n",
    "            segment_ids = batch['segment_ids'].to(device)\n",
    "            attention_a = batch['attention_premise'].to(device)  # ✅ Aligned with training code\n",
    "            attention_b = batch['attention_hypothesis'].to(device)  # ✅ Aligned with training code\n",
    "            label = batch['labels'].to(device)\n",
    "\n",
    "            # Extract token embeddings from BERT\n",
    "            u, _ = model(inputs_ids_a, segment_ids, attention_a)  \n",
    "            v, _ = model(inputs_ids_b, segment_ids, attention_b)  \n",
    "\n",
    "            # Mean Pooling\n",
    "            u_mean_pool = mean_pool(u, attention_a)  # ✅ Consistent with training\n",
    "            v_mean_pool = mean_pool(v, attention_b)  # ✅ Consistent with training\n",
    "            \n",
    "            # Compute similarity vector\n",
    "            uv = torch.sub(u_mean_pool, v_mean_pool)  \n",
    "            uv_abs = torch.abs(uv)\n",
    "            x = torch.cat([u_mean_pool, v_mean_pool, uv_abs], dim=-1) \n",
    "            \n",
    "            # Classifier Prediction\n",
    "            x = classifier(x)  \n",
    "            loss = criterion(x, label)\n",
    "\n",
    "            total_loss += loss.item()  # ✅ Use .item() to avoid tensor accumulation issue\n",
    "    \n",
    "    average_loss = total_loss / len(eval_dataloader)  # Compute mean loss\n",
    "    return average_loss  # ✅ Return loss instead of just printing\n"
   ]
  },
  {
   "cell_type": "code",
   "execution_count": 56,
   "metadata": {},
   "outputs": [],
   "source": [
    "import torch.nn.functional as F\n",
    "\n",
    "def calculate_cosine_sim_model1(model, classifier, eval_dataloader):\n",
    "    model.eval()\n",
    "    classifier.eval()\n",
    "    \n",
    "    total_similarity = 0\n",
    "    batch_count = 0  # To track batch count for averaging\n",
    "    \n",
    "    with torch.no_grad():\n",
    "        for batch in eval_dataloader:\n",
    "            # Move batches to device\n",
    "            inputs_ids_a = batch['premise_input_ids'].to(device)\n",
    "            inputs_ids_b = batch['hypothesis_input_ids'].to(device)\n",
    "            segment_ids = batch['segment_ids'].to(device)\n",
    "            attention_a = batch['attention_premise'].to(device)  # ✅ Aligned with training\n",
    "            attention_b = batch['attention_hypothesis'].to(device)  # ✅ Aligned with training\n",
    "\n",
    "            # Extract token embeddings from BERT\n",
    "            u, _ = model(inputs_ids_a, segment_ids, attention_a)  \n",
    "            v, _ = model(inputs_ids_b, segment_ids, attention_b)  \n",
    "            \n",
    "            # Get the mean pooled vectors\n",
    "            u_mean_pool = mean_pool(u, attention_a)  # ✅ Batch-wise computation\n",
    "            v_mean_pool = mean_pool(v, attention_b)  # ✅ Batch-wise computation\n",
    "\n",
    "            # Compute cosine similarity in PyTorch (batch-wise)\n",
    "            similarity_score = F.cosine_similarity(u_mean_pool, v_mean_pool, dim=-1)  # ✅ No NumPy needed\n",
    "\n",
    "            # Sum up the batch similarity and increase batch count\n",
    "            total_similarity += similarity_score.mean().item()\n",
    "            batch_count += 1\n",
    "        \n",
    "    # Compute the final average similarity\n",
    "    average_similarity = total_similarity / batch_count  # ✅ Avoid division by len(eval_dataloader)\n",
    "    \n",
    "    return average_similarity  # ✅ Return value instead of just printing\n"
   ]
  },
  {
   "cell_type": "code",
   "execution_count": 57,
   "metadata": {},
   "outputs": [],
   "source": [
    "import random\n",
    "\n",
    "def tokenize_sentence_model1(sentence_a, sentence_b):\n",
    "    lst_input_ids_premise = []\n",
    "    lst_input_ids_hypothesis = []\n",
    "    lst_masked_tokens_premise = []\n",
    "    lst_masked_pos_premise = []\n",
    "    lst_masked_tokens_hypothesis = []\n",
    "    lst_masked_pos_hypothesis = []\n",
    "    lst_segment_ids = []\n",
    "    lst_attention_premise = []\n",
    "    lst_attention_hypothesis = []\n",
    "    \n",
    "    max_seq_length = 200\n",
    "    seed(55)  # Ensures consistent masking\n",
    "\n",
    "    # Tokenize words using predefined vocabulary\n",
    "    tokens_premise = [word2id[word] if word in word_list else len(word_list) for word in sentence_a.split()]\n",
    "    tokens_hypothesis = [word2id[word] if word in word_list else len(word_list) for word in sentence_b.split()]\n",
    "    \n",
    "    # Add CLS and SEP tokens\n",
    "    input_ids_premise = [word2id['[CLS]']] + tokens_premise + [word2id['[SEP]']]\n",
    "    input_ids_hypothesis = [word2id['[CLS]']] + tokens_hypothesis + [word2id['[SEP]']]\n",
    "    \n",
    "    # Segment IDs (0 for premise, 1 for hypothesis)\n",
    "    segment_ids = [0] * len(input_ids_premise) + [1] * len(input_ids_hypothesis)\n",
    "    segment_ids.extend([0] * (max_seq_length - len(segment_ids)))  # Pad segment IDs to max length\n",
    "    \n",
    "    # Masking for premise\n",
    "    n_pred_premise = min(max_mask, max(1, int(round(len(input_ids_premise) * 0.15))))\n",
    "    candidates_masked_pos_premise = [i for i, token in enumerate(input_ids_premise) if token not in [word2id['[CLS]'], word2id['[SEP]']]]\n",
    "    shuffle(candidates_masked_pos_premise)\n",
    "    \n",
    "    masked_tokens_premise, masked_pos_premise = [], []\n",
    "    for pos in candidates_masked_pos_premise[:n_pred_premise]:\n",
    "        masked_pos_premise.append(pos)\n",
    "        masked_tokens_premise.append(input_ids_premise[pos])\n",
    "\n",
    "        rand_val = random.random()\n",
    "        if rand_val < 0.8:  # 80% replace with [MASK]\n",
    "            input_ids_premise[pos] = word2id['[MASK]']\n",
    "        elif rand_val < 0.9:  # 10% replace with random token\n",
    "            input_ids_premise[pos] = word2id[id2word[random.randint(0, vocab_size - 1)]]\n",
    "    \n",
    "    # Masking for hypothesis\n",
    "    n_pred_hypothesis = min(max_mask, max(1, int(round(len(input_ids_hypothesis) * 0.15))))\n",
    "    candidates_masked_pos_hypothesis = [i for i, token in enumerate(input_ids_hypothesis) if token not in [word2id['[CLS]'], word2id['[SEP]']]]\n",
    "    shuffle(candidates_masked_pos_hypothesis)\n",
    "    \n",
    "    masked_tokens_hypothesis, masked_pos_hypothesis = [], []\n",
    "    for pos in candidates_masked_pos_hypothesis[:n_pred_hypothesis]:\n",
    "        masked_pos_hypothesis.append(pos)\n",
    "        masked_tokens_hypothesis.append(input_ids_hypothesis[pos])\n",
    "\n",
    "        rand_val = random.random()\n",
    "        if rand_val < 0.8:  # 80% replace with [MASK]\n",
    "            input_ids_hypothesis[pos] = word2id['[MASK]']\n",
    "        elif rand_val < 0.9:  # 10% replace with random token\n",
    "            input_ids_hypothesis[pos] = word2id[id2word[random.randint(0, vocab_size - 1)]]\n",
    "\n",
    "    # Padding premise\n",
    "    n_pad_premise = max_seq_length - len(input_ids_premise)\n",
    "    input_ids_premise.extend([0] * n_pad_premise)\n",
    "\n",
    "    # Attention mask premise\n",
    "    attention_premise = [1] * len(input_ids_premise) + [0] * n_pad_premise\n",
    "    attention_premise = attention_premise[:max_seq_length]\n",
    "\n",
    "    # Padding hypothesis\n",
    "    n_pad_hypothesis = max_seq_length - len(input_ids_hypothesis)\n",
    "    input_ids_hypothesis.extend([0] * n_pad_hypothesis)\n",
    "\n",
    "    # Attention mask hypothesis\n",
    "    attention_hypothesis = [1] * len(input_ids_hypothesis) + [0] * n_pad_hypothesis\n",
    "    attention_hypothesis = attention_hypothesis[:max_seq_length]\n",
    "\n",
    "    # Masked token padding\n",
    "    if max_mask > n_pred_premise:\n",
    "        masked_tokens_premise.extend([0] * (max_mask - n_pred_premise))\n",
    "        masked_pos_premise.extend([0] * (max_mask - n_pred_premise))\n",
    "\n",
    "    if max_mask > n_pred_hypothesis:\n",
    "        masked_tokens_hypothesis.extend([0] * (max_mask - n_pred_hypothesis))\n",
    "        masked_pos_hypothesis.extend([0] * (max_mask - n_pred_hypothesis))\n",
    "\n",
    "    # Store in lists\n",
    "    lst_input_ids_premise.append(input_ids_premise[:max_seq_length])\n",
    "    lst_input_ids_hypothesis.append(input_ids_hypothesis[:max_seq_length])\n",
    "    lst_segment_ids.append(segment_ids[:max_seq_length])\n",
    "    lst_masked_tokens_premise.append(masked_tokens_premise)\n",
    "    lst_masked_pos_premise.append(masked_pos_premise)\n",
    "    lst_masked_tokens_hypothesis.append(masked_tokens_hypothesis)\n",
    "    lst_masked_pos_hypothesis.append(masked_pos_hypothesis)\n",
    "    lst_attention_premise.append(attention_premise)\n",
    "    lst_attention_hypothesis.append(attention_hypothesis)\n",
    "\n",
    "    return {\n",
    "        \"premise_input_ids\": lst_input_ids_premise,\n",
    "        \"premise_pos_mask\": lst_masked_pos_premise,\n",
    "        \"hypothesis_input_ids\": lst_input_ids_hypothesis,\n",
    "        \"hypothesis_pos_mask\": lst_masked_pos_hypothesis,\n",
    "        \"segment_ids\": lst_segment_ids,\n",
    "        \"attention_premise\": lst_attention_premise,\n",
    "        \"attention_hypothesis\": lst_attention_hypothesis,\n",
    "    }\n"
   ]
  },
  {
   "cell_type": "code",
   "execution_count": 76,
   "metadata": {},
   "outputs": [],
   "source": [
    "def mean_pool(token_embeds, attention_mask):\n",
    "    # Ensure attention_mask matches token_embeds length\n",
    "    if attention_mask.shape[1] != token_embeds.shape[1]:\n",
    "        #print(f\"⚠ Warning: Resizing attention_mask from {attention_mask.shape} to match {token_embeds.shape}\")\n",
    "        attention_mask = attention_mask[:, :token_embeds.shape[1]]  # Trim to match\n",
    "    \n",
    "    # Expand mask and perform mean pooling\n",
    "    in_mask = attention_mask.unsqueeze(-1).float()  # [batch_size, seq_len, 1]\n",
    "    pool = torch.sum(token_embeds * in_mask, dim=1) / torch.clamp(in_mask.sum(dim=1), min=1e-9)\n",
    "\n",
    "    return pool\n",
    "\n"
   ]
  },
  {
   "cell_type": "code",
   "execution_count": 77,
   "metadata": {},
   "outputs": [],
   "source": [
    "import torch\n",
    "from sklearn.metrics.pairwise import cosine_similarity\n",
    "\n",
    "def calculate_similarity_model1(model, sentence_a, sentence_b, device):\n",
    "    # Tokenize and convert sentences to input IDs and attention masks\n",
    "    inputs = tokenize_sentence_model1(sentence_a, sentence_b)\n",
    "    \n",
    "    # Convert to tensors and move to device\n",
    "    inputs_ids_a = torch.tensor(inputs['premise_input_ids']).to(device)\n",
    "    pos_mask_a = torch.tensor(inputs['premise_pos_mask']).to(device)\n",
    "    attention_a = torch.tensor(inputs['attention_premise']).to(device)\n",
    "    inputs_ids_b = torch.tensor(inputs['hypothesis_input_ids']).to(device)\n",
    "    pos_mask_b = torch.tensor(inputs['hypothesis_pos_mask']).to(device)\n",
    "    attention_b = torch.tensor(inputs['attention_hypothesis']).to(device)\n",
    "    segment = torch.tensor(inputs['segment_ids']).to(device)\n",
    "\n",
    "    \n",
    "    # Ensure correct tensor dimensions (remove batch dim if necessary)\n",
    "    inputs_ids_a = inputs_ids_a.squeeze(0) if inputs_ids_a.dim() > 2 else inputs_ids_a  \n",
    "    inputs_ids_b = inputs_ids_b.squeeze(0) if inputs_ids_b.dim() > 2 else inputs_ids_b\n",
    "    segment = segment.squeeze(0) if segment.dim() > 2 else segment\n",
    "\n",
    "    # Extract token embeddings from BERT\n",
    "    model.eval()  # Set model to evaluation mode\n",
    "    with torch.no_grad():\n",
    "        u, _ = model(inputs_ids_a, segment, pos_mask_a)  \n",
    "        v, _ = model(inputs_ids_b, segment, pos_mask_b) \n",
    "\n",
    "    # **DEBUG STEP: Print Shapes After Model Forward Pass**\n",
    "    print(f\"Shape of u (embeddings): {u.shape}\")\n",
    "    print(f\"Shape of v (embeddings): {v.shape}\")\n",
    "\n",
    "    # Get the mean-pooled vectors\n",
    "    u = mean_pool(u, attention_a).detach().cpu().numpy().squeeze(0)  \n",
    "    v = mean_pool(v, attention_b).detach().cpu().numpy().squeeze(0)  \n",
    "\n",
    "    # Calculate cosine similarity\n",
    "    similarity_score = cosine_similarity(u.reshape(1, -1), v.reshape(1, -1))[0, 0]\n",
    "\n",
    "    return similarity_score  \n"
   ]
  },
  {
   "cell_type": "code",
   "execution_count": 79,
   "metadata": {},
   "outputs": [],
   "source": [
    "from sklearn.metrics import accuracy_score, precision_recall_fscore_support\n",
    "import torch\n",
    "from tqdm.auto import tqdm  # Import tqdm for progress bar\n",
    "\n",
    "def evaluate_nli_model(model, classifier, eval_dataloader, device):\n",
    "    model.eval()\n",
    "    classifier.eval()\n",
    "    all_preds = []\n",
    "    all_labels = []\n",
    "    \n",
    "    with torch.no_grad():\n",
    "        # Wrap the evaluation loop with tqdm for progress tracking\n",
    "        for batch in tqdm(eval_dataloader, desc=\"Evaluating\"):\n",
    "            inputs_ids_a = batch['premise_input_ids'].to(device)\n",
    "            inputs_ids_b = batch['hypothesis_input_ids'].to(device)\n",
    "            pos_mask_a = batch['premise_pos_mask'].to(device)\n",
    "            pos_mask_b = batch['hypothesis_pos_mask'].to(device)\n",
    "            segment_ids = batch['segment_ids'].to(device)\n",
    "            attention_a = batch['attention_premise'].to(device)\n",
    "            attention_b = batch['attention_hypothesis'].to(device)\n",
    "            labels = batch['labels'].to(device)\n",
    "            \n",
    "            # Extract token embeddings\n",
    "            u, _ = model(inputs_ids_a, segment_ids, pos_mask_a)\n",
    "            v, _ = model(inputs_ids_b, segment_ids, pos_mask_b)\n",
    "            \n",
    "            # Mean pooling\n",
    "            u_mean_pool = mean_pool(u, attention_a)\n",
    "            v_mean_pool = mean_pool(v, attention_b)\n",
    "            \n",
    "            # Compute absolute difference\n",
    "            uv_abs = torch.abs(u_mean_pool - v_mean_pool)\n",
    "            \n",
    "            # Concatenate u, v, and |u-v|\n",
    "            x = torch.cat([u_mean_pool, v_mean_pool, uv_abs], dim=-1)\n",
    "            \n",
    "            # Pass through classifier\n",
    "            logits = classifier(x)\n",
    "            \n",
    "            # Get predictions\n",
    "            preds = torch.argmax(logits, dim=1)\n",
    "            all_preds.extend(preds.cpu().numpy())\n",
    "            all_labels.extend(labels.cpu().numpy())\n",
    "    \n",
    "    # Compute metrics\n",
    "    accuracy = accuracy_score(all_labels, all_preds)\n",
    "    precision, recall, f1, _ = precision_recall_fscore_support(all_labels, all_preds, average='weighted')\n",
    "    \n",
    "    print(f'Accuracy: {accuracy:.4f}')\n",
    "    print(f'Precision: {precision:.4f}')\n",
    "    print(f'Recall: {recall:.4f}')\n",
    "    print(f'F1-score: {f1:.4f}')\n",
    "    \n",
    "    return {'accuracy': accuracy, 'precision': precision, 'recall': recall, 'f1': f1}\n"
   ]
  },
  {
   "cell_type": "markdown",
   "metadata": {},
   "source": [
    "# then  both similarity and classification (entailment, neutral and contradiction) "
   ]
  },
  {
   "cell_type": "code",
   "execution_count": 80,
   "metadata": {},
   "outputs": [],
   "source": [
    "import torch\n",
    "import torch.nn.functional as F\n",
    "from sklearn.metrics.pairwise import cosine_similarity\n",
    "\n",
    "def predict_nli_and_similarity(model, classifier_head, sentence_a, sentence_b, device):\n",
    "    # Tokenize and convert sentences to input IDs and attention masks\n",
    "    inputs = tokenize_sentence_model1(sentence_a, sentence_b)\n",
    "    \n",
    "    # Move input IDs and attention masks to the active device\n",
    "    inputs_ids_a = torch.tensor(inputs['premise_input_ids']).to(device)\n",
    "    pos_mask_a = torch.tensor(inputs['premise_pos_mask']).to(device)\n",
    "    attention_a = torch.tensor(inputs['attention_premise']).to(device)\n",
    "    inputs_ids_b = torch.tensor(inputs['hypothesis_input_ids']).to(device)\n",
    "    pos_mask_b = torch.tensor(inputs['hypothesis_pos_mask']).to(device)\n",
    "    attention_b = torch.tensor(inputs['attention_hypothesis']).to(device)\n",
    "    segment = torch.tensor(inputs['segment_ids']).to(device)\n",
    "\n",
    "    # Extract token embeddings from BERT\n",
    "    with torch.no_grad():\n",
    "        u, _ = model(inputs_ids_a, segment, pos_mask_a)\n",
    "        v, _ = model(inputs_ids_b, segment, pos_mask_b)\n",
    "\n",
    "    # Get the mean-pooled vectors\n",
    "    u = mean_pool(u, attention_a)\n",
    "    v = mean_pool(v, attention_b)\n",
    "\n",
    "    # Convert to numpy for cosine similarity\n",
    "    u_np = u.cpu().numpy().reshape(-1)\n",
    "    v_np = v.cpu().numpy().reshape(-1)\n",
    "\n",
    "    # Calculate cosine similarity\n",
    "    similarity_score = cosine_similarity(u_np.reshape(1, -1), v_np.reshape(1, -1))[0, 0]\n",
    "\n",
    "    # Compute NLI classification\n",
    "    uv_abs = torch.abs(u - v)  # |u - v|\n",
    "    x = torch.cat([u, v, uv_abs], dim=-1)  # Concatenate for classification\n",
    "\n",
    "    with torch.no_grad():\n",
    "        logits = classifier_head(x)  # Pass through classification head\n",
    "        probabilities = F.softmax(logits, dim=-1)\n",
    "\n",
    "    # NLI labels: contradiction (0), neutral (1), entailment (2)\n",
    "    labels = [\"contradiction\", \"neutral\", \"entailment\"]\n",
    "    nli_result = labels[torch.argmax(probabilities).item()]\n",
    "\n",
    "    return similarity_score, nli_result\n"
   ]
  },
  {
   "cell_type": "markdown",
   "metadata": {},
   "source": [
    "## Model 1"
   ]
  },
  {
   "cell_type": "markdown",
   "metadata": {},
   "source": [
    "### Evaluate model1 before training with MNLI dataset"
   ]
  },
  {
   "cell_type": "code",
   "execution_count": 63,
   "metadata": {},
   "outputs": [
    {
     "data": {
      "text/plain": [
       "<All keys matched successfully>"
      ]
     },
     "execution_count": 63,
     "metadata": {},
     "output_type": "execute_result"
    }
   ],
   "source": [
    "# load model1 before retrain in task2 \n",
    "model1 = BERT()\n",
    "model1.load_state_dict(torch.load('app/models/bert-model-v2.pt'))"
   ]
  },
  {
   "cell_type": "code",
   "execution_count": 64,
   "metadata": {},
   "outputs": [
    {
     "name": "stdout",
     "output_type": "stream",
     "text": [
      "______\n",
      "83137171\n"
     ]
    }
   ],
   "source": [
    "count_parameters(model1)"
   ]
  },
  {
   "cell_type": "code",
   "execution_count": 65,
   "metadata": {},
   "outputs": [
    {
     "data": {
      "text/plain": [
       "0.9987411666661501"
      ]
     },
     "execution_count": 65,
     "metadata": {},
     "output_type": "execute_result"
    }
   ],
   "source": [
    "calculate_cosine_sim_model1(model1,classifier_head,eval_dataloader)"
   ]
  },
  {
   "cell_type": "code",
   "execution_count": 66,
   "metadata": {},
   "outputs": [
    {
     "data": {
      "text/plain": [
       "8.723345130681992"
      ]
     },
     "execution_count": 66,
     "metadata": {},
     "output_type": "execute_result"
    }
   ],
   "source": [
    "calculate_loss_model1(model1,classifier_head,criterion,eval_dataloader)"
   ]
  },
  {
   "cell_type": "code",
   "execution_count": 78,
   "metadata": {},
   "outputs": [
    {
     "name": "stdout",
     "output_type": "stream",
     "text": [
      "Shape of u (embeddings): torch.Size([1, 5, 60305])\n",
      "Shape of v (embeddings): torch.Size([1, 5, 60305])\n",
      "Cosine Similarity: 0.9993\n"
     ]
    }
   ],
   "source": [
    "sentence_a = 'A man is playing a guitar on stage'\n",
    "sentence_b = \"The man is performing music\"\n",
    "similarity = calculate_similarity_model1(model1, sentence_a, sentence_b, device)\n",
    "print(f\"Cosine Similarity: {similarity:.4f}\")"
   ]
  },
  {
   "cell_type": "code",
   "execution_count": 81,
   "metadata": {},
   "outputs": [
    {
     "name": "stderr",
     "output_type": "stream",
     "text": [
      "Evaluating: 100%|██████████| 32/32 [01:47<00:00,  3.35s/it]"
     ]
    },
    {
     "name": "stdout",
     "output_type": "stream",
     "text": [
      "Accuracy: 0.3190\n",
      "Precision: 0.1018\n",
      "Recall: 0.3190\n",
      "F1-score: 0.1543\n",
      "{'accuracy': 0.319, 'precision': 0.10176099999999999, 'recall': 0.319, 'f1': 0.15430022744503413}\n"
     ]
    },
    {
     "name": "stderr",
     "output_type": "stream",
     "text": [
      "\n",
      "d:\\AIT_lecture\\NLP\\pythonNLP\\Lib\\site-packages\\sklearn\\metrics\\_classification.py:1565: UndefinedMetricWarning: Precision is ill-defined and being set to 0.0 in labels with no predicted samples. Use `zero_division` parameter to control this behavior.\n",
      "  _warn_prf(average, modifier, f\"{metric.capitalize()} is\", len(result))\n"
     ]
    }
   ],
   "source": [
    "eval_metrics1 = evaluate_nli_model(model1, classifier_head, eval_dataloader, device)\n",
    "print(eval_metrics1)"
   ]
  },
  {
   "cell_type": "markdown",
   "metadata": {},
   "source": [
    "### Evaluate model1 after training with MNLI dataset"
   ]
  },
  {
   "cell_type": "code",
   "execution_count": 82,
   "metadata": {},
   "outputs": [
    {
     "data": {
      "text/plain": [
       "<All keys matched successfully>"
      ]
     },
     "execution_count": 82,
     "metadata": {},
     "output_type": "execute_result"
    }
   ],
   "source": [
    "# Instantiate the BERT model\n",
    "our_model = BERT()\n",
    "our_model.load_state_dict(torch.load('app/models/our-model.pt'))"
   ]
  },
  {
   "cell_type": "code",
   "execution_count": 83,
   "metadata": {},
   "outputs": [
    {
     "data": {
      "text/plain": [
       "0.9986222609877586"
      ]
     },
     "execution_count": 83,
     "metadata": {},
     "output_type": "execute_result"
    }
   ],
   "source": [
    "calculate_cosine_sim_model1(our_model,classifier_head,eval_dataloader)"
   ]
  },
  {
   "cell_type": "code",
   "execution_count": 84,
   "metadata": {},
   "outputs": [
    {
     "data": {
      "text/plain": [
       "8.952201031148434"
      ]
     },
     "execution_count": 84,
     "metadata": {},
     "output_type": "execute_result"
    }
   ],
   "source": [
    "calculate_loss_model1(our_model,classifier_head,criterion,eval_dataloader)"
   ]
  },
  {
   "cell_type": "code",
   "execution_count": 85,
   "metadata": {},
   "outputs": [
    {
     "name": "stdout",
     "output_type": "stream",
     "text": [
      "Shape of u (embeddings): torch.Size([1, 5, 60305])\n",
      "Shape of v (embeddings): torch.Size([1, 5, 60305])\n",
      "Cosine Similarity: 0.9996\n"
     ]
    }
   ],
   "source": [
    "sentence_a = 'A man is playing a guitar on stage'\n",
    "sentence_b = \"The man is performing music\"\n",
    "similarity = calculate_similarity_model1(our_model, sentence_a, sentence_b, device)\n",
    "print(f\"Cosine Similarity: {similarity:.4f}\")"
   ]
  },
  {
   "cell_type": "code",
   "execution_count": 86,
   "metadata": {},
   "outputs": [
    {
     "name": "stderr",
     "output_type": "stream",
     "text": [
      "Evaluating: 100%|██████████| 32/32 [01:55<00:00,  3.61s/it]"
     ]
    },
    {
     "name": "stdout",
     "output_type": "stream",
     "text": [
      "Accuracy: 0.3190\n",
      "Precision: 0.1018\n",
      "Recall: 0.3190\n",
      "F1-score: 0.1543\n",
      "{'accuracy': 0.319, 'precision': 0.10176099999999999, 'recall': 0.319, 'f1': 0.15430022744503413}\n"
     ]
    },
    {
     "name": "stderr",
     "output_type": "stream",
     "text": [
      "\n",
      "d:\\AIT_lecture\\NLP\\pythonNLP\\Lib\\site-packages\\sklearn\\metrics\\_classification.py:1565: UndefinedMetricWarning: Precision is ill-defined and being set to 0.0 in labels with no predicted samples. Use `zero_division` parameter to control this behavior.\n",
      "  _warn_prf(average, modifier, f\"{metric.capitalize()} is\", len(result))\n"
     ]
    }
   ],
   "source": [
    "eval_metrics = evaluate_nli_model(our_model, classifier_head, eval_dataloader, device)\n",
    "print(eval_metrics)"
   ]
  },
  {
   "cell_type": "code",
   "execution_count": 88,
   "metadata": {},
   "outputs": [
    {
     "name": "stdout",
     "output_type": "stream",
     "text": [
      "Cosine Similarity: 0.9988\n",
      "NLI Prediction: entailment\n"
     ]
    }
   ],
   "source": [
    "sentence_a = \"A man is playing a guitar.\"\n",
    "sentence_b = \"A person is performing music.\"\n",
    "similarity, nli_result = predict_nli_and_similarity(our_model, classifier_head, sentence_a, sentence_b, device)\n",
    "\n",
    "print(f\"Cosine Similarity: {similarity:.4f}\")\n",
    "print(f\"NLI Prediction: {nli_result}\")\n"
   ]
  },
  {
   "cell_type": "code",
   "execution_count": 91,
   "metadata": {},
   "outputs": [
    {
     "name": "stdout",
     "output_type": "stream",
     "text": [
      "Cosine Similarity: 0.9998\n",
      "NLI Prediction: entailment\n"
     ]
    }
   ],
   "source": [
    "sentence_a = \"Vrenna and I both fought him and he nearly took us.\"\n",
    "sentence_b = \"Neither Vrenna nor myself have ever fought him.\"\n",
    "similarity, nli_result = predict_nli_and_similarity(our_model, classifier_head, sentence_a, sentence_b, device)\n",
    "\n",
    "print(f\"Cosine Similarity: {similarity:.4f}\")\n",
    "print(f\"NLI Prediction: {nli_result}\")"
   ]
  },
  {
   "cell_type": "code",
   "execution_count": 101,
   "metadata": {},
   "outputs": [
    {
     "data": {
      "text/plain": [
       "BertModel(\n",
       "  (embeddings): BertEmbeddings(\n",
       "    (word_embeddings): Embedding(30522, 768, padding_idx=0)\n",
       "    (position_embeddings): Embedding(512, 768)\n",
       "    (token_type_embeddings): Embedding(2, 768)\n",
       "    (LayerNorm): LayerNorm((768,), eps=1e-12, elementwise_affine=True)\n",
       "    (dropout): Dropout(p=0.1, inplace=False)\n",
       "  )\n",
       "  (encoder): BertEncoder(\n",
       "    (layer): ModuleList(\n",
       "      (0-11): 12 x BertLayer(\n",
       "        (attention): BertAttention(\n",
       "          (self): BertSdpaSelfAttention(\n",
       "            (query): Linear(in_features=768, out_features=768, bias=True)\n",
       "            (key): Linear(in_features=768, out_features=768, bias=True)\n",
       "            (value): Linear(in_features=768, out_features=768, bias=True)\n",
       "            (dropout): Dropout(p=0.1, inplace=False)\n",
       "          )\n",
       "          (output): BertSelfOutput(\n",
       "            (dense): Linear(in_features=768, out_features=768, bias=True)\n",
       "            (LayerNorm): LayerNorm((768,), eps=1e-12, elementwise_affine=True)\n",
       "            (dropout): Dropout(p=0.1, inplace=False)\n",
       "          )\n",
       "        )\n",
       "        (intermediate): BertIntermediate(\n",
       "          (dense): Linear(in_features=768, out_features=3072, bias=True)\n",
       "          (intermediate_act_fn): GELUActivation()\n",
       "        )\n",
       "        (output): BertOutput(\n",
       "          (dense): Linear(in_features=3072, out_features=768, bias=True)\n",
       "          (LayerNorm): LayerNorm((768,), eps=1e-12, elementwise_affine=True)\n",
       "          (dropout): Dropout(p=0.1, inplace=False)\n",
       "        )\n",
       "      )\n",
       "    )\n",
       "  )\n",
       "  (pooler): BertPooler(\n",
       "    (dense): Linear(in_features=768, out_features=768, bias=True)\n",
       "    (activation): Tanh()\n",
       "  )\n",
       ")"
      ]
     },
     "execution_count": 101,
     "metadata": {},
     "output_type": "execute_result"
    }
   ],
   "source": [
    "# start from a pretrained bert-base-uncased model\n",
    "from transformers import BertTokenizer, BertModel\n",
    "model2 = BertModel.from_pretrained('bert-base-uncased')\n",
    "model2.to(device)"
   ]
  },
  {
   "cell_type": "code",
   "execution_count": 105,
   "metadata": {},
   "outputs": [
    {
     "name": "stdout",
     "output_type": "stream",
     "text": [
      "______\n",
      "109482240\n"
     ]
    }
   ],
   "source": [
    "count_parameters(model2)"
   ]
  },
  {
   "cell_type": "code",
   "execution_count": null,
   "metadata": {},
   "outputs": [],
   "source": []
  }
 ],
 "metadata": {
  "colab": {
   "provenance": []
  },
  "kernelspec": {
   "display_name": "pythonNLP",
   "language": "python",
   "name": "pythonnlp"
  },
  "language_info": {
   "codemirror_mode": {
    "name": "ipython",
    "version": 3
   },
   "file_extension": ".py",
   "mimetype": "text/x-python",
   "name": "python",
   "nbconvert_exporter": "python",
   "pygments_lexer": "ipython3",
   "version": "3.11.5"
  }
 },
 "nbformat": 4,
 "nbformat_minor": 4
}
