{
 "cells": [
  {
   "cell_type": "code",
   "execution_count": 9,
   "metadata": {},
   "outputs": [],
   "source": [
    "import os\n",
    "from langchain_groq import ChatGroq\n",
    "from langchain.document_loaders import PyMuPDFLoader, WebBaseLoader\n",
    "from langchain.embeddings import SentenceTransformerEmbeddings\n",
    "from langchain.vectorstores import FAISS\n",
    "from langchain.text_splitter import RecursiveCharacterTextSplitter\n",
    "from langchain.chains import RetrievalQA\n",
    "from langchain.prompts import PromptTemplate\n",
    "from langchain_core.prompts import ChatPromptTemplate\n",
    "import json\n"
   ]
  },
  {
   "cell_type": "code",
   "execution_count": 10,
   "metadata": {},
   "outputs": [],
   "source": [
    "import os\n",
    "os.environ[\"GROQ_API_KEY\"] = \"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\""
   ]
  },
  {
   "cell_type": "markdown",
   "metadata": {},
   "source": [
    "### TASK 1: SOURCE DISCOVERY ###\n",
    "### Load resume document"
   ]
  },
  {
   "cell_type": "code",
   "execution_count": 11,
   "metadata": {},
   "outputs": [],
   "source": [
    "# Define sources\n",
    "pdf_files = [\"CV_Khin_Yadanar_Hlaing.pdf\",\"linkedinprofile.pdf\"]\n",
    "web_links = [\"https://www.linkedin.com/in/kyhlaing/\"]"
   ]
  },
  {
   "cell_type": "code",
   "execution_count": 12,
   "metadata": {},
   "outputs": [],
   "source": [
    "documents = []\n",
    "\n",
    "# Load PDF documents\n",
    "for pdf_file in pdf_files:\n",
    "    if os.path.exists(pdf_file):\n",
    "        pdf_loader = PyMuPDFLoader(pdf_file)\n",
    "        documents.extend(pdf_loader.load())\n"
   ]
  },
  {
   "cell_type": "code",
   "execution_count": 13,
   "metadata": {},
   "outputs": [],
   "source": [
    "# Load LinkedIn (or other web) data\n",
    "for link in web_links:\n",
    "    web_loader = WebBaseLoader(link)\n",
    "    documents.extend(web_loader.load())\n"
   ]
  },
  {
   "cell_type": "code",
   "execution_count": 14,
   "metadata": {},
   "outputs": [],
   "source": [
    "# Split text into chunks\n",
    "text_splitter = RecursiveCharacterTextSplitter(chunk_size=500, chunk_overlap=50)\n",
    "docs = text_splitter.split_documents(documents)"
   ]
  },
  {
   "cell_type": "code",
   "execution_count": 15,
   "metadata": {},
   "outputs": [
    {
     "name": "stderr",
     "output_type": "stream",
     "text": [
      "C:\\Users\\User\\AppData\\Local\\Temp\\ipykernel_26516\\631326302.py:2: LangChainDeprecationWarning: The class `HuggingFaceEmbeddings` was deprecated in LangChain 0.2.2 and will be removed in 1.0. An updated version of the class exists in the :class:`~langchain-huggingface package and should be used instead. To use it run `pip install -U :class:`~langchain-huggingface` and import as `from :class:`~langchain_huggingface import HuggingFaceEmbeddings``.\n",
      "  embeddings = SentenceTransformerEmbeddings(model_name=\"all-MiniLM-L6-v2\")\n",
      "d:\\AIT_lecture\\NLP\\pythonNLP\\Lib\\site-packages\\tqdm\\auto.py:21: TqdmWarning: IProgress not found. Please update jupyter and ipywidgets. See https://ipywidgets.readthedocs.io/en/stable/user_install.html\n",
      "  from .autonotebook import tqdm as notebook_tqdm\n"
     ]
    }
   ],
   "source": [
    "# Generate embeddings using SentenceTransformer\n",
    "embeddings = SentenceTransformerEmbeddings(model_name=\"all-MiniLM-L6-v2\")\n",
    "vectorstore = FAISS.from_documents(docs, embeddings)"
   ]
  },
  {
   "cell_type": "code",
   "execution_count": 16,
   "metadata": {},
   "outputs": [],
   "source": [
    "# Create retriever\n",
    "retriever = vectorstore.as_retriever()\n",
    "\n",
    "# Define a custom prompt template\n",
    "prompt_template = PromptTemplate(\n",
    "    template=\"You are an AI assistant. Answer the following question based on the provided context.\\n\\nContext: {context}\\n\\nQuestion: {question}\\n\\nAnswer:\",\n",
    "    input_variables=[\"context\", \"question\"]\n",
    ")\n"
   ]
  },
  {
   "cell_type": "code",
   "execution_count": 17,
   "metadata": {},
   "outputs": [],
   "source": [
    "# Initialize Groq LLM\n",
    "llm = ChatGroq(\n",
    "    model=\"llama-3.1-8b-instant\",\n",
    "    temperature=0,\n",
    "    max_tokens=None,\n",
    "    timeout=None,\n",
    "    max_retries=2\n",
    ")"
   ]
  },
  {
   "cell_type": "code",
   "execution_count": 18,
   "metadata": {},
   "outputs": [],
   "source": [
    "# Initialize QA chain\n",
    "qa_chain = RetrievalQA.from_chain_type(\n",
    "    llm=llm,\n",
    "    retriever=retriever,\n",
    "    return_source_documents=True,\n",
    "    chain_type_kwargs={\"prompt\": prompt_template}\n",
    ")"
   ]
  },
  {
   "cell_type": "markdown",
   "metadata": {},
   "source": [
    "### TASK 2: ANALYSIS AND PROBLEM SOLVING ###"
   ]
  },
  {
   "cell_type": "code",
   "execution_count": 19,
   "metadata": {},
   "outputs": [
    {
     "name": "stdout",
     "output_type": "stream",
     "text": [
      "Retriever Model: FAISS (all-MiniLM-L6-v2)\n",
      "Generator Model: Groq LLaMA-3.1-8B\n"
     ]
    }
   ],
   "source": [
    "retriever_model = \"FAISS (all-MiniLM-L6-v2)\"\n",
    "generator_model = \"Groq LLaMA-3.1-8B\"\n",
    "\n",
    "# Document the models used\n",
    "print(f\"Retriever Model: {retriever_model}\")\n",
    "print(f\"Generator Model: {generator_model}\")\n",
    "\n",
    "# Analyze potential issues (hallucinations, unrelated responses)\n",
    "def analyze_response(question, response):\n",
    "    print(f\"Q: {question}\\nA: {response['result']}\\nSources: {[doc.metadata for doc in response['source_documents']]}\")"
   ]
  },
  {
   "cell_type": "markdown",
   "metadata": {},
   "source": [
    "### TASK 3: CHATBOT DEVELOPMENT & JSON OUTPUT ###"
   ]
  },
  {
   "cell_type": "code",
   "execution_count": 20,
   "metadata": {},
   "outputs": [],
   "source": [
    "questions = [\n",
    "    \"How old am I?\",\n",
    "    \"What is my highest level of education?\",\n",
    "    \"What major or field of study did I pursue during my education?\",\n",
    "    \"How many years of work experience do I have?\",\n",
    "    \"What type of work or industry have I been involved in?\",\n",
    "    \"Can you describe your current role or job responsibilities?\",\n",
    "    \"What are your core beliefs regarding the role of technology in shaping society?\",\n",
    "    \"How do you think cultural values should influence technological advancements?\",\n",
    "    \"As a master’s student, what is the most challenging aspect of your studies so far?\",\n",
    "    \"What specific research interests or academic goals do you hope to achieve during your time as a master’s student?\"\n",
    "]"
   ]
  },
  {
   "cell_type": "code",
   "execution_count": 21,
   "metadata": {},
   "outputs": [
    {
     "name": "stdout",
     "output_type": "stream",
     "text": [
      "Q: How old am I?\n",
      "A: To determine your age, I need to know the current year. Since I don't have real-time information, I'll use the current knowledge cutoff year (2023) for the calculation.\n",
      "\n",
      "You were born on August 5, 1996. \n",
      "\n",
      "If we calculate your age as of 2023:\n",
      "2023 - 1996 = 27 years old\n",
      "\n",
      "So, as of 2023, you are 27 years old.\n",
      "Sources: [{'producer': 'Microsoft® Word for Microsoft 365', 'creator': 'Microsoft® Word for Microsoft 365', 'creationdate': '2024-05-10T13:33:56+07:00', 'source': 'CV_Khin_Yadanar_Hlaing.pdf', 'file_path': 'CV_Khin_Yadanar_Hlaing.pdf', 'total_pages': 2, 'format': 'PDF 1.7', 'title': '', 'author': 'Khin Yadanar', 'subject': '', 'keywords': '', 'moddate': '2024-05-10T13:33:56+07:00', 'trapped': '', 'modDate': \"D:20240510133356+07'00'\", 'creationDate': \"D:20240510133356+07'00'\", 'page': 0}, {'producer': 'Apache FOP Version 2.2', 'creator': '', 'creationdate': '2025-03-15T19:04:08+00:00', 'source': 'linkedinprofile.pdf', 'file_path': 'linkedinprofile.pdf', 'total_pages': 1, 'format': 'PDF 1.4', 'title': 'Resume', 'author': 'LinkedIn', 'subject': 'Resume generated from profile', 'keywords': '', 'moddate': '', 'trapped': '', 'modDate': '', 'creationDate': 'D:20250315190408Z', 'page': 0}, {'producer': 'Microsoft® Word for Microsoft 365', 'creator': 'Microsoft® Word for Microsoft 365', 'creationdate': '2024-05-10T13:33:56+07:00', 'source': 'CV_Khin_Yadanar_Hlaing.pdf', 'file_path': 'CV_Khin_Yadanar_Hlaing.pdf', 'total_pages': 2, 'format': 'PDF 1.7', 'title': '', 'author': 'Khin Yadanar', 'subject': '', 'keywords': '', 'moddate': '2024-05-10T13:33:56+07:00', 'trapped': '', 'modDate': \"D:20240510133356+07'00'\", 'creationDate': \"D:20240510133356+07'00'\", 'page': 1}, {'producer': 'Microsoft® Word for Microsoft 365', 'creator': 'Microsoft® Word for Microsoft 365', 'creationdate': '2024-05-10T13:33:56+07:00', 'source': 'CV_Khin_Yadanar_Hlaing.pdf', 'file_path': 'CV_Khin_Yadanar_Hlaing.pdf', 'total_pages': 2, 'format': 'PDF 1.7', 'title': '', 'author': 'Khin Yadanar', 'subject': '', 'keywords': '', 'moddate': '2024-05-10T13:33:56+07:00', 'trapped': '', 'modDate': \"D:20240510133356+07'00'\", 'creationDate': \"D:20240510133356+07'00'\", 'page': 1}]\n",
      "Q: What is my highest level of education?\n",
      "A: Your highest level of education is a Master's degree in Data Science and AI from the Asian Institute of Technology, which you are currently pursuing (August 2024 - May 2026).\n",
      "Sources: [{'producer': 'Microsoft® Word for Microsoft 365', 'creator': 'Microsoft® Word for Microsoft 365', 'creationdate': '2024-05-10T13:33:56+07:00', 'source': 'CV_Khin_Yadanar_Hlaing.pdf', 'file_path': 'CV_Khin_Yadanar_Hlaing.pdf', 'total_pages': 2, 'format': 'PDF 1.7', 'title': '', 'author': 'Khin Yadanar', 'subject': '', 'keywords': '', 'moddate': '2024-05-10T13:33:56+07:00', 'trapped': '', 'modDate': \"D:20240510133356+07'00'\", 'creationDate': \"D:20240510133356+07'00'\", 'page': 1}, {'producer': 'Apache FOP Version 2.2', 'creator': '', 'creationdate': '2025-03-15T19:04:08+00:00', 'source': 'linkedinprofile.pdf', 'file_path': 'linkedinprofile.pdf', 'total_pages': 1, 'format': 'PDF 1.4', 'title': 'Resume', 'author': 'LinkedIn', 'subject': 'Resume generated from profile', 'keywords': '', 'moddate': '', 'trapped': '', 'modDate': '', 'creationDate': 'D:20250315190408Z', 'page': 0}, {'producer': 'Microsoft® Word for Microsoft 365', 'creator': 'Microsoft® Word for Microsoft 365', 'creationdate': '2024-05-10T13:33:56+07:00', 'source': 'CV_Khin_Yadanar_Hlaing.pdf', 'file_path': 'CV_Khin_Yadanar_Hlaing.pdf', 'total_pages': 2, 'format': 'PDF 1.7', 'title': '', 'author': 'Khin Yadanar', 'subject': '', 'keywords': '', 'moddate': '2024-05-10T13:33:56+07:00', 'trapped': '', 'modDate': \"D:20240510133356+07'00'\", 'creationDate': \"D:20240510133356+07'00'\", 'page': 1}, {'producer': 'Apache FOP Version 2.2', 'creator': '', 'creationdate': '2025-03-15T19:04:08+00:00', 'source': 'linkedinprofile.pdf', 'file_path': 'linkedinprofile.pdf', 'total_pages': 1, 'format': 'PDF 1.4', 'title': 'Resume', 'author': 'LinkedIn', 'subject': 'Resume generated from profile', 'keywords': '', 'moddate': '', 'trapped': '', 'modDate': '', 'creationDate': 'D:20250315190408Z', 'page': 0}]\n",
      "Q: What major or field of study did I pursue during my education?\n",
      "A: Unfortunately, the provided context does not explicitly mention the major or field of study pursued during your education at the Technological University. However, based on your experience and skills, it can be inferred that you have a background in a technical or business-related field, possibly with a focus on data analysis or information technology.\n",
      "Sources: [{'producer': 'Microsoft® Word for Microsoft 365', 'creator': 'Microsoft® Word for Microsoft 365', 'creationdate': '2024-05-10T13:33:56+07:00', 'source': 'CV_Khin_Yadanar_Hlaing.pdf', 'file_path': 'CV_Khin_Yadanar_Hlaing.pdf', 'total_pages': 2, 'format': 'PDF 1.7', 'title': '', 'author': 'Khin Yadanar', 'subject': '', 'keywords': '', 'moddate': '2024-05-10T13:33:56+07:00', 'trapped': '', 'modDate': \"D:20240510133356+07'00'\", 'creationDate': \"D:20240510133356+07'00'\", 'page': 1}, {'producer': 'Apache FOP Version 2.2', 'creator': '', 'creationdate': '2025-03-15T19:04:08+00:00', 'source': 'linkedinprofile.pdf', 'file_path': 'linkedinprofile.pdf', 'total_pages': 1, 'format': 'PDF 1.4', 'title': 'Resume', 'author': 'LinkedIn', 'subject': 'Resume generated from profile', 'keywords': '', 'moddate': '', 'trapped': '', 'modDate': '', 'creationDate': 'D:20250315190408Z', 'page': 0}, {'producer': 'Microsoft® Word for Microsoft 365', 'creator': 'Microsoft® Word for Microsoft 365', 'creationdate': '2024-05-10T13:33:56+07:00', 'source': 'CV_Khin_Yadanar_Hlaing.pdf', 'file_path': 'CV_Khin_Yadanar_Hlaing.pdf', 'total_pages': 2, 'format': 'PDF 1.7', 'title': '', 'author': 'Khin Yadanar', 'subject': '', 'keywords': '', 'moddate': '2024-05-10T13:33:56+07:00', 'trapped': '', 'modDate': \"D:20240510133356+07'00'\", 'creationDate': \"D:20240510133356+07'00'\", 'page': 1}, {'producer': 'Microsoft® Word for Microsoft 365', 'creator': 'Microsoft® Word for Microsoft 365', 'creationdate': '2024-05-10T13:33:56+07:00', 'source': 'CV_Khin_Yadanar_Hlaing.pdf', 'file_path': 'CV_Khin_Yadanar_Hlaing.pdf', 'total_pages': 2, 'format': 'PDF 1.7', 'title': '', 'author': 'Khin Yadanar', 'subject': '', 'keywords': '', 'moddate': '2024-05-10T13:33:56+07:00', 'trapped': '', 'modDate': \"D:20240510133356+07'00'\", 'creationDate': \"D:20240510133356+07'00'\", 'page': 0}]\n",
      "Q: How many years of work experience do I have?\n",
      "A: To calculate the total years of work experience, we need to add up the years and months from the provided experience sections.\n",
      "\n",
      "1. Royal Express Myanmar (Business Data Analyst, September 2022 - June 2023, 10 months)\n",
      "   - 10 months is approximately 0.83 years (10 months / 12 months per year)\n",
      "\n",
      "2. Frontiir (Associates Network Engineer, January 2021 - May 2022, 1 year 5 months)\n",
      "   - 1 year 5 months is approximately 1.42 years (1 year + 5 months / 12 months per year)\n",
      "\n",
      "3. Innovis Telecom & Network Consultancy Services PLC (no specific dates provided, but mentioned as 2013-2019)\n",
      "   - This is approximately 6 years (2019 - 2013 = 6 years)\n",
      "\n",
      "Now, let's add up the years:\n",
      "0.83 years (Royal Express Myanmar) + 1.42 years (Frontiir) + 6 years (Innovis Telecom) = 8.25 years\n",
      "\n",
      "So, you have approximately 8.25 years of work experience.\n",
      "Sources: [{'producer': 'Apache FOP Version 2.2', 'creator': '', 'creationdate': '2025-03-15T19:04:08+00:00', 'source': 'linkedinprofile.pdf', 'file_path': 'linkedinprofile.pdf', 'total_pages': 1, 'format': 'PDF 1.4', 'title': 'Resume', 'author': 'LinkedIn', 'subject': 'Resume generated from profile', 'keywords': '', 'moddate': '', 'trapped': '', 'modDate': '', 'creationDate': 'D:20250315190408Z', 'page': 0}, {'producer': 'Microsoft® Word for Microsoft 365', 'creator': 'Microsoft® Word for Microsoft 365', 'creationdate': '2024-05-10T13:33:56+07:00', 'source': 'CV_Khin_Yadanar_Hlaing.pdf', 'file_path': 'CV_Khin_Yadanar_Hlaing.pdf', 'total_pages': 2, 'format': 'PDF 1.7', 'title': '', 'author': 'Khin Yadanar', 'subject': '', 'keywords': '', 'moddate': '2024-05-10T13:33:56+07:00', 'trapped': '', 'modDate': \"D:20240510133356+07'00'\", 'creationDate': \"D:20240510133356+07'00'\", 'page': 1}, {'producer': 'Microsoft® Word for Microsoft 365', 'creator': 'Microsoft® Word for Microsoft 365', 'creationdate': '2024-05-10T13:33:56+07:00', 'source': 'CV_Khin_Yadanar_Hlaing.pdf', 'file_path': 'CV_Khin_Yadanar_Hlaing.pdf', 'total_pages': 2, 'format': 'PDF 1.7', 'title': '', 'author': 'Khin Yadanar', 'subject': '', 'keywords': '', 'moddate': '2024-05-10T13:33:56+07:00', 'trapped': '', 'modDate': \"D:20240510133356+07'00'\", 'creationDate': \"D:20240510133356+07'00'\", 'page': 1}, {'producer': 'Microsoft® Word for Microsoft 365', 'creator': 'Microsoft® Word for Microsoft 365', 'creationdate': '2024-05-10T13:33:56+07:00', 'source': 'CV_Khin_Yadanar_Hlaing.pdf', 'file_path': 'CV_Khin_Yadanar_Hlaing.pdf', 'total_pages': 2, 'format': 'PDF 1.7', 'title': '', 'author': 'Khin Yadanar', 'subject': '', 'keywords': '', 'moddate': '2024-05-10T13:33:56+07:00', 'trapped': '', 'modDate': \"D:20240510133356+07'00'\", 'creationDate': \"D:20240510133356+07'00'\", 'page': 0}]\n",
      "Q: What type of work or industry have I been involved in?\n",
      "A: Based on the provided context, it appears that you, Khin Yadanar Hlaing, have been involved in various industries and roles, including:\n",
      "\n",
      "1. Data Analysis: You have experience as a Data Analyst in Royal Express Myanmar, where you collected data and intelligence on operational activities.\n",
      "2. Business Operations: You worked as a Business Data Analyst in Royal Express Myanmar, organizing trainings and collaborating with various departments.\n",
      "3. IT and Technology: You have experience as an Associate Network Engineer at Frontiir, which suggests involvement in the IT and technology sector.\n",
      "4. Telecommunications: You worked at Innovis Telecom & Network Consultancy Services PLC, indicating involvement in the telecommunications industry.\n",
      "\n",
      "Overall, your work experience suggests that you have a diverse background in data analysis, business operations, IT, and telecommunications.\n",
      "Sources: [{'producer': 'Microsoft® Word for Microsoft 365', 'creator': 'Microsoft® Word for Microsoft 365', 'creationdate': '2024-05-10T13:33:56+07:00', 'source': 'CV_Khin_Yadanar_Hlaing.pdf', 'file_path': 'CV_Khin_Yadanar_Hlaing.pdf', 'total_pages': 2, 'format': 'PDF 1.7', 'title': '', 'author': 'Khin Yadanar', 'subject': '', 'keywords': '', 'moddate': '2024-05-10T13:33:56+07:00', 'trapped': '', 'modDate': \"D:20240510133356+07'00'\", 'creationDate': \"D:20240510133356+07'00'\", 'page': 0}, {'producer': 'Apache FOP Version 2.2', 'creator': '', 'creationdate': '2025-03-15T19:04:08+00:00', 'source': 'linkedinprofile.pdf', 'file_path': 'linkedinprofile.pdf', 'total_pages': 1, 'format': 'PDF 1.4', 'title': 'Resume', 'author': 'LinkedIn', 'subject': 'Resume generated from profile', 'keywords': '', 'moddate': '', 'trapped': '', 'modDate': '', 'creationDate': 'D:20250315190408Z', 'page': 0}, {'producer': 'Microsoft® Word for Microsoft 365', 'creator': 'Microsoft® Word for Microsoft 365', 'creationdate': '2024-05-10T13:33:56+07:00', 'source': 'CV_Khin_Yadanar_Hlaing.pdf', 'file_path': 'CV_Khin_Yadanar_Hlaing.pdf', 'total_pages': 2, 'format': 'PDF 1.7', 'title': '', 'author': 'Khin Yadanar', 'subject': '', 'keywords': '', 'moddate': '2024-05-10T13:33:56+07:00', 'trapped': '', 'modDate': \"D:20240510133356+07'00'\", 'creationDate': \"D:20240510133356+07'00'\", 'page': 1}, {'producer': 'Microsoft® Word for Microsoft 365', 'creator': 'Microsoft® Word for Microsoft 365', 'creationdate': '2024-05-10T13:33:56+07:00', 'source': 'CV_Khin_Yadanar_Hlaing.pdf', 'file_path': 'CV_Khin_Yadanar_Hlaing.pdf', 'total_pages': 2, 'format': 'PDF 1.7', 'title': '', 'author': 'Khin Yadanar', 'subject': '', 'keywords': '', 'moddate': '2024-05-10T13:33:56+07:00', 'trapped': '', 'modDate': \"D:20240510133356+07'00'\", 'creationDate': \"D:20240510133356+07'00'\", 'page': 0}]\n",
      "Q: Can you describe your current role or job responsibilities?\n",
      "A: Based on the provided context, I can describe your current role or job responsibilities as a Business Data Analyst at Royal Express Myanmar. \n",
      "\n",
      "As a Business Data Analyst, your job responsibilities include:\n",
      "\n",
      "1. Defining, categorizing, and analyzing available data and intelligence.\n",
      "2. Providing specific advice and recommendations to the management team and all departments as requested.\n",
      "3. Working as a problem-solving taskforce on demand for all departments.\n",
      "4. Building out the data and dashboard from the system using SQL and Power BI to provide real-time insights into the Inbound/Outbound, delivery status, and KPI.\n",
      "\n",
      "This role appears to be a data-driven position that involves analyzing data, providing insights, and making recommendations to support business decision-making.\n",
      "Sources: [{'producer': 'Microsoft® Word for Microsoft 365', 'creator': 'Microsoft® Word for Microsoft 365', 'creationdate': '2024-05-10T13:33:56+07:00', 'source': 'CV_Khin_Yadanar_Hlaing.pdf', 'file_path': 'CV_Khin_Yadanar_Hlaing.pdf', 'total_pages': 2, 'format': 'PDF 1.7', 'title': '', 'author': 'Khin Yadanar', 'subject': '', 'keywords': '', 'moddate': '2024-05-10T13:33:56+07:00', 'trapped': '', 'modDate': \"D:20240510133356+07'00'\", 'creationDate': \"D:20240510133356+07'00'\", 'page': 1}, {'producer': 'Microsoft® Word for Microsoft 365', 'creator': 'Microsoft® Word for Microsoft 365', 'creationdate': '2024-05-10T13:33:56+07:00', 'source': 'CV_Khin_Yadanar_Hlaing.pdf', 'file_path': 'CV_Khin_Yadanar_Hlaing.pdf', 'total_pages': 2, 'format': 'PDF 1.7', 'title': '', 'author': 'Khin Yadanar', 'subject': '', 'keywords': '', 'moddate': '2024-05-10T13:33:56+07:00', 'trapped': '', 'modDate': \"D:20240510133356+07'00'\", 'creationDate': \"D:20240510133356+07'00'\", 'page': 1}, {'producer': 'Microsoft® Word for Microsoft 365', 'creator': 'Microsoft® Word for Microsoft 365', 'creationdate': '2024-05-10T13:33:56+07:00', 'source': 'CV_Khin_Yadanar_Hlaing.pdf', 'file_path': 'CV_Khin_Yadanar_Hlaing.pdf', 'total_pages': 2, 'format': 'PDF 1.7', 'title': '', 'author': 'Khin Yadanar', 'subject': '', 'keywords': '', 'moddate': '2024-05-10T13:33:56+07:00', 'trapped': '', 'modDate': \"D:20240510133356+07'00'\", 'creationDate': \"D:20240510133356+07'00'\", 'page': 0}, {'producer': 'Apache FOP Version 2.2', 'creator': '', 'creationdate': '2025-03-15T19:04:08+00:00', 'source': 'linkedinprofile.pdf', 'file_path': 'linkedinprofile.pdf', 'total_pages': 1, 'format': 'PDF 1.4', 'title': 'Resume', 'author': 'LinkedIn', 'subject': 'Resume generated from profile', 'keywords': '', 'moddate': '', 'trapped': '', 'modDate': '', 'creationDate': 'D:20250315190408Z', 'page': 0}]\n",
      "Q: What are your core beliefs regarding the role of technology in shaping society?\n",
      "A: Unfortunately, the provided context does not explicitly mention your core beliefs regarding the role of technology in shaping society. However, based on the information provided, I can make some inferences.\n",
      "\n",
      "As a Data Science and AI Master's degree student at the Asian Institute of Technology, you likely have a strong interest in the potential of technology to drive positive change in society. Your experience as a Coordinator and Associate Network Engineer also suggests that you have hands-on experience with technology and its applications.\n",
      "\n",
      "While I don't have direct information on your core beliefs, I can provide a general answer based on the context:\n",
      "\n",
      "As someone with a background in Data Science and AI, I believe that technology has the potential to shape society in profound ways. With the right applications and implementations, technology can drive innovation, improve efficiency, and enhance the quality of life for individuals and communities. However, it's also essential to consider the potential risks and challenges associated with technology, such as data privacy concerns, job displacement, and social inequality.\n",
      "\n",
      "Ultimately, the role of technology in shaping society depends on how we design, develop, and deploy it. As a Data Science and AI professional, I believe that it's essential to prioritize responsible innovation, ensure that technology is accessible and inclusive, and foster a culture of transparency and accountability.\n",
      "\n",
      "Please note that this answer is based on inferences and not a direct statement from you. If you'd like to provide a more specific answer, I'd be happy to hear it!\n",
      "Sources: [{'producer': 'Microsoft® Word for Microsoft 365', 'creator': 'Microsoft® Word for Microsoft 365', 'creationdate': '2024-05-10T13:33:56+07:00', 'source': 'CV_Khin_Yadanar_Hlaing.pdf', 'file_path': 'CV_Khin_Yadanar_Hlaing.pdf', 'total_pages': 2, 'format': 'PDF 1.7', 'title': '', 'author': 'Khin Yadanar', 'subject': '', 'keywords': '', 'moddate': '2024-05-10T13:33:56+07:00', 'trapped': '', 'modDate': \"D:20240510133356+07'00'\", 'creationDate': \"D:20240510133356+07'00'\", 'page': 1}, {'producer': 'Microsoft® Word for Microsoft 365', 'creator': 'Microsoft® Word for Microsoft 365', 'creationdate': '2024-05-10T13:33:56+07:00', 'source': 'CV_Khin_Yadanar_Hlaing.pdf', 'file_path': 'CV_Khin_Yadanar_Hlaing.pdf', 'total_pages': 2, 'format': 'PDF 1.7', 'title': '', 'author': 'Khin Yadanar', 'subject': '', 'keywords': '', 'moddate': '2024-05-10T13:33:56+07:00', 'trapped': '', 'modDate': \"D:20240510133356+07'00'\", 'creationDate': \"D:20240510133356+07'00'\", 'page': 0}, {'producer': 'Apache FOP Version 2.2', 'creator': '', 'creationdate': '2025-03-15T19:04:08+00:00', 'source': 'linkedinprofile.pdf', 'file_path': 'linkedinprofile.pdf', 'total_pages': 1, 'format': 'PDF 1.4', 'title': 'Resume', 'author': 'LinkedIn', 'subject': 'Resume generated from profile', 'keywords': '', 'moddate': '', 'trapped': '', 'modDate': '', 'creationDate': 'D:20250315190408Z', 'page': 0}, {'producer': 'Microsoft® Word for Microsoft 365', 'creator': 'Microsoft® Word for Microsoft 365', 'creationdate': '2024-05-10T13:33:56+07:00', 'source': 'CV_Khin_Yadanar_Hlaing.pdf', 'file_path': 'CV_Khin_Yadanar_Hlaing.pdf', 'total_pages': 2, 'format': 'PDF 1.7', 'title': '', 'author': 'Khin Yadanar', 'subject': '', 'keywords': '', 'moddate': '2024-05-10T13:33:56+07:00', 'trapped': '', 'modDate': \"D:20240510133356+07'00'\", 'creationDate': \"D:20240510133356+07'00'\", 'page': 1}]\n",
      "Q: How do you think cultural values should influence technological advancements?\n",
      "A: As a data analyst with a strong technical background, I believe that cultural values should play a significant role in shaping technological advancements. Here's why:\n",
      "\n",
      "1. **Inclusive Design**: Cultural values can inform the design of technologies to ensure they are inclusive and accessible to diverse populations. For instance, in Myanmar, where I'm from, there's a strong emphasis on respect for elders and tradition. A technology that incorporates these values, such as a platform that allows older adults to easily access essential services, can be more effective and widely adopted.\n",
      "2. **Contextual Understanding**: Cultural values can provide context to technological solutions, ensuring they are tailored to the specific needs and challenges of a community. For example, in a rural area, a technology that leverages local knowledge and practices can be more effective in addressing issues like healthcare or education.\n",
      "3. **Ethical Considerations**: Cultural values can guide the development of technologies that respect human rights, dignity, and well-being. In Myanmar, for instance, there's a strong emphasis on community and social harmony. A technology that promotes these values, such as a platform that facilitates community engagement and conflict resolution, can be more beneficial.\n",
      "4. **Local Capacity Building**: Cultural values can inform the development of local capacity and skills, ensuring that communities are equipped to design, implement, and maintain technologies that meet their needs. This can lead to more sustainable and effective technological solutions.\n",
      "5. **Responsible Innovation**: Cultural values can encourage responsible innovation, ensuring that technologies are developed and used in ways that respect the environment, social norms, and cultural heritage. In Myanmar, for example, there's a strong emphasis on preserving traditional knowledge and practices. A technology that respects and incorporates these values can be more sustainable and beneficial.\n",
      "\n",
      "To incorporate cultural values into technological advancements, I would recommend the following:\n",
      "\n",
      "1. **Engage with local communities**: Involve local stakeholders, including community leaders, experts, and end-users, in the design and development process to ensure that technologies meet their needs and respect their values.\n",
      "2. **Conduct cultural impact assessments**: Assess the potential cultural impacts of technologies and develop strategies to mitigate any negative effects.\n",
      "3. **Develop culturally sensitive technologies**: Design technologies that are tailored to the specific needs and challenges of a community, incorporating local knowledge, practices, and values.\n",
      "4. **Foster local capacity building**: Invest in local capacity building, providing training and support to develop the skills and expertise needed to design, implement, and maintain technologies that meet local needs.\n",
      "5. **Encourage responsible innovation**: Promote responsible innovation, ensuring that technologies are developed and used in ways that respect the environment, social norms, and cultural heritage.\n",
      "\n",
      "By incorporating cultural values into technological advancements, we can create more effective, sustainable, and beneficial technologies that meet the needs of diverse communities.\n",
      "Sources: [{'producer': 'Microsoft® Word for Microsoft 365', 'creator': 'Microsoft® Word for Microsoft 365', 'creationdate': '2024-05-10T13:33:56+07:00', 'source': 'CV_Khin_Yadanar_Hlaing.pdf', 'file_path': 'CV_Khin_Yadanar_Hlaing.pdf', 'total_pages': 2, 'format': 'PDF 1.7', 'title': '', 'author': 'Khin Yadanar', 'subject': '', 'keywords': '', 'moddate': '2024-05-10T13:33:56+07:00', 'trapped': '', 'modDate': \"D:20240510133356+07'00'\", 'creationDate': \"D:20240510133356+07'00'\", 'page': 0}, {'producer': 'Microsoft® Word for Microsoft 365', 'creator': 'Microsoft® Word for Microsoft 365', 'creationdate': '2024-05-10T13:33:56+07:00', 'source': 'CV_Khin_Yadanar_Hlaing.pdf', 'file_path': 'CV_Khin_Yadanar_Hlaing.pdf', 'total_pages': 2, 'format': 'PDF 1.7', 'title': '', 'author': 'Khin Yadanar', 'subject': '', 'keywords': '', 'moddate': '2024-05-10T13:33:56+07:00', 'trapped': '', 'modDate': \"D:20240510133356+07'00'\", 'creationDate': \"D:20240510133356+07'00'\", 'page': 0}, {'producer': 'Microsoft® Word for Microsoft 365', 'creator': 'Microsoft® Word for Microsoft 365', 'creationdate': '2024-05-10T13:33:56+07:00', 'source': 'CV_Khin_Yadanar_Hlaing.pdf', 'file_path': 'CV_Khin_Yadanar_Hlaing.pdf', 'total_pages': 2, 'format': 'PDF 1.7', 'title': '', 'author': 'Khin Yadanar', 'subject': '', 'keywords': '', 'moddate': '2024-05-10T13:33:56+07:00', 'trapped': '', 'modDate': \"D:20240510133356+07'00'\", 'creationDate': \"D:20240510133356+07'00'\", 'page': 1}, {'producer': 'Microsoft® Word for Microsoft 365', 'creator': 'Microsoft® Word for Microsoft 365', 'creationdate': '2024-05-10T13:33:56+07:00', 'source': 'CV_Khin_Yadanar_Hlaing.pdf', 'file_path': 'CV_Khin_Yadanar_Hlaing.pdf', 'total_pages': 2, 'format': 'PDF 1.7', 'title': '', 'author': 'Khin Yadanar', 'subject': '', 'keywords': '', 'moddate': '2024-05-10T13:33:56+07:00', 'trapped': '', 'modDate': \"D:20240510133356+07'00'\", 'creationDate': \"D:20240510133356+07'00'\", 'page': 1}]\n",
      "Q: As a master’s student, what is the most challenging aspect of your studies so far?\n",
      "A: As a master's student in Data Science and AI at the Asian Institute of Technology, I have been actively engaged in my studies. However, I must admit that the most challenging aspect of my studies so far has been balancing my coursework with my professional experience and other commitments.\n",
      "\n",
      "As you can see from my resume, I have a diverse background in various fields, including technical support, report presentation, leadership, and data analysis. While I have been able to leverage my skills and experience to excel in my studies, I have found it challenging to manage my time effectively and prioritize my tasks.\n",
      "\n",
      "Additionally, the coursework in Data Science and AI is highly demanding, requiring a strong foundation in mathematics, statistics, and programming. I have had to work hard to keep up with the pace of the course and apply the concepts to real-world problems.\n",
      "\n",
      "Despite these challenges, I am committed to my studies and am determined to excel in my program. I am confident that the skills and knowledge I gain will enable me to make a meaningful contribution to the field of Data Science and AI.\n",
      "Sources: [{'producer': 'Microsoft® Word for Microsoft 365', 'creator': 'Microsoft® Word for Microsoft 365', 'creationdate': '2024-05-10T13:33:56+07:00', 'source': 'CV_Khin_Yadanar_Hlaing.pdf', 'file_path': 'CV_Khin_Yadanar_Hlaing.pdf', 'total_pages': 2, 'format': 'PDF 1.7', 'title': '', 'author': 'Khin Yadanar', 'subject': '', 'keywords': '', 'moddate': '2024-05-10T13:33:56+07:00', 'trapped': '', 'modDate': \"D:20240510133356+07'00'\", 'creationDate': \"D:20240510133356+07'00'\", 'page': 1}, {'producer': 'Microsoft® Word for Microsoft 365', 'creator': 'Microsoft® Word for Microsoft 365', 'creationdate': '2024-05-10T13:33:56+07:00', 'source': 'CV_Khin_Yadanar_Hlaing.pdf', 'file_path': 'CV_Khin_Yadanar_Hlaing.pdf', 'total_pages': 2, 'format': 'PDF 1.7', 'title': '', 'author': 'Khin Yadanar', 'subject': '', 'keywords': '', 'moddate': '2024-05-10T13:33:56+07:00', 'trapped': '', 'modDate': \"D:20240510133356+07'00'\", 'creationDate': \"D:20240510133356+07'00'\", 'page': 0}, {'producer': 'Apache FOP Version 2.2', 'creator': '', 'creationdate': '2025-03-15T19:04:08+00:00', 'source': 'linkedinprofile.pdf', 'file_path': 'linkedinprofile.pdf', 'total_pages': 1, 'format': 'PDF 1.4', 'title': 'Resume', 'author': 'LinkedIn', 'subject': 'Resume generated from profile', 'keywords': '', 'moddate': '', 'trapped': '', 'modDate': '', 'creationDate': 'D:20250315190408Z', 'page': 0}, {'producer': 'Microsoft® Word for Microsoft 365', 'creator': 'Microsoft® Word for Microsoft 365', 'creationdate': '2024-05-10T13:33:56+07:00', 'source': 'CV_Khin_Yadanar_Hlaing.pdf', 'file_path': 'CV_Khin_Yadanar_Hlaing.pdf', 'total_pages': 2, 'format': 'PDF 1.7', 'title': '', 'author': 'Khin Yadanar', 'subject': '', 'keywords': '', 'moddate': '2024-05-10T13:33:56+07:00', 'trapped': '', 'modDate': \"D:20240510133356+07'00'\", 'creationDate': \"D:20240510133356+07'00'\", 'page': 1}]\n",
      "Q: What specific research interests or academic goals do you hope to achieve during your time as a master’s student?\n",
      "A: Although the provided context does not explicitly mention specific research interests or academic goals, it can be inferred from the background and skills listed. \n",
      "\n",
      "As a Data Science and AI master's student at the Asian Institute of Technology, I, Khin Yadanar Hlaing, aim to explore the intersection of data science and business analysis. My research interests lie in developing data-driven solutions to real-world problems, particularly in the areas of business intelligence, data visualization, and predictive analytics.\n",
      "\n",
      "During my time as a master's student, I hope to achieve the following academic goals:\n",
      "\n",
      "1. **Deepen my understanding of data science and AI**: I aim to gain a comprehensive knowledge of data science concepts, including machine learning, deep learning, and data visualization.\n",
      "2. **Develop expertise in data analysis and visualization tools**: I plan to enhance my skills in using tools like Microsoft Power BI, Google Data Analytics, and Excel/Google Sheets to effectively analyze and present complex data insights.\n",
      "3. **Apply data science to business problems**: I hope to work on projects that involve using data science techniques to solve real-world business problems, such as predictive maintenance, customer segmentation, and supply chain optimization.\n",
      "4. **Explore the application of AI in business**: I am interested in investigating the potential of AI in business, including natural language processing, computer vision, and recommender systems.\n",
      "5. **Publish research papers and present at conferences**: I aim to contribute to the academic community by publishing research papers and presenting my work at conferences related to data science and AI.\n",
      "\n",
      "By achieving these goals, I hope to become a proficient data scientist with a strong foundation in business analysis, enabling me to make a meaningful impact in the industry and contribute to the advancement of data science and AI research.\n",
      "Sources: [{'producer': 'Microsoft® Word for Microsoft 365', 'creator': 'Microsoft® Word for Microsoft 365', 'creationdate': '2024-05-10T13:33:56+07:00', 'source': 'CV_Khin_Yadanar_Hlaing.pdf', 'file_path': 'CV_Khin_Yadanar_Hlaing.pdf', 'total_pages': 2, 'format': 'PDF 1.7', 'title': '', 'author': 'Khin Yadanar', 'subject': '', 'keywords': '', 'moddate': '2024-05-10T13:33:56+07:00', 'trapped': '', 'modDate': \"D:20240510133356+07'00'\", 'creationDate': \"D:20240510133356+07'00'\", 'page': 1}, {'producer': 'Microsoft® Word for Microsoft 365', 'creator': 'Microsoft® Word for Microsoft 365', 'creationdate': '2024-05-10T13:33:56+07:00', 'source': 'CV_Khin_Yadanar_Hlaing.pdf', 'file_path': 'CV_Khin_Yadanar_Hlaing.pdf', 'total_pages': 2, 'format': 'PDF 1.7', 'title': '', 'author': 'Khin Yadanar', 'subject': '', 'keywords': '', 'moddate': '2024-05-10T13:33:56+07:00', 'trapped': '', 'modDate': \"D:20240510133356+07'00'\", 'creationDate': \"D:20240510133356+07'00'\", 'page': 1}, {'producer': 'Apache FOP Version 2.2', 'creator': '', 'creationdate': '2025-03-15T19:04:08+00:00', 'source': 'linkedinprofile.pdf', 'file_path': 'linkedinprofile.pdf', 'total_pages': 1, 'format': 'PDF 1.4', 'title': 'Resume', 'author': 'LinkedIn', 'subject': 'Resume generated from profile', 'keywords': '', 'moddate': '', 'trapped': '', 'modDate': '', 'creationDate': 'D:20250315190408Z', 'page': 0}, {'producer': 'Apache FOP Version 2.2', 'creator': '', 'creationdate': '2025-03-15T19:04:08+00:00', 'source': 'linkedinprofile.pdf', 'file_path': 'linkedinprofile.pdf', 'total_pages': 1, 'format': 'PDF 1.4', 'title': 'Resume', 'author': 'LinkedIn', 'subject': 'Resume generated from profile', 'keywords': '', 'moddate': '', 'trapped': '', 'modDate': '', 'creationDate': 'D:20250315190408Z', 'page': 0}]\n",
      "Responses saved to chatbot_responses.json\n"
     ]
    }
   ],
   "source": [
    "# Store responses in JSON format\n",
    "qa_responses = []\n",
    "for question in questions:\n",
    "    response = qa_chain.invoke({\"query\": question})\n",
    "    qa_responses.append({\"question\": question, \"answer\": response['result']})\n",
    "    analyze_response(question, response)\n",
    "\n",
    "# Save responses as JSON\n",
    "with open(\"chatbot_responses.json\", \"w\") as json_file:\n",
    "    json.dump(qa_responses, json_file, indent=4)\n",
    "\n",
    "print(\"Responses saved to chatbot_responses.json\")"
   ]
  },
  {
   "cell_type": "code",
   "execution_count": null,
   "metadata": {},
   "outputs": [],
   "source": []
  }
 ],
 "metadata": {
  "kernelspec": {
   "display_name": "pythonNLP",
   "language": "python",
   "name": "pythonnlp"
  },
  "language_info": {
   "codemirror_mode": {
    "name": "ipython",
    "version": 3
   },
   "file_extension": ".py",
   "mimetype": "text/x-python",
   "name": "python",
   "nbconvert_exporter": "python",
   "pygments_lexer": "ipython3",
   "version": "3.11.5"
  }
 },
 "nbformat": 4,
 "nbformat_minor": 2
}
