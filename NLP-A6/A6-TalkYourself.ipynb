{
 "cells": [
  {
   "cell_type": "code",
   "execution_count": 44,
   "metadata": {},
   "outputs": [],
   "source": [
    "import os\n",
    "from langchain_groq import ChatGroq\n",
    "from langchain.document_loaders import PyMuPDFLoader, WebBaseLoader\n",
    "from langchain.embeddings import SentenceTransformerEmbeddings\n",
    "from langchain.vectorstores import FAISS\n",
    "from langchain.text_splitter import RecursiveCharacterTextSplitter\n",
    "from langchain.chains import RetrievalQA\n",
    "from langchain.prompts import PromptTemplate\n",
    "from langchain_core.prompts import ChatPromptTemplate\n",
    "import json\n"
   ]
  },
  {
   "cell_type": "code",
   "execution_count": 45,
   "metadata": {},
   "outputs": [],
   "source": [
    "import os\n",
    "os.environ[\"GROQ_API_KEY\"] = \"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\""
   ]
  },
  {
   "cell_type": "markdown",
   "metadata": {},
   "source": [
    "### TASK 1: SOURCE DISCOVERY ###\n",
    "### Load resume document"
   ]
  },
  {
   "cell_type": "code",
   "execution_count": 46,
   "metadata": {},
   "outputs": [],
   "source": [
    "# Define sources\n",
    "pdf_files = [\"CV_Khin_Yadanar_Hlaing.pdf\"]\n",
    "web_links = [\"https://www.linkedin.com/in/kyhlaing/\"]"
   ]
  },
  {
   "cell_type": "code",
   "execution_count": 47,
   "metadata": {},
   "outputs": [],
   "source": [
    "documents = []\n",
    "\n",
    "# Load PDF documents\n",
    "for pdf_file in pdf_files:\n",
    "    if os.path.exists(pdf_file):\n",
    "        pdf_loader = PyMuPDFLoader(pdf_file)\n",
    "        documents.extend(pdf_loader.load())\n"
   ]
  },
  {
   "cell_type": "code",
   "execution_count": 48,
   "metadata": {},
   "outputs": [],
   "source": [
    "# Load LinkedIn (or other web) data\n",
    "for link in web_links:\n",
    "    web_loader = WebBaseLoader(link)\n",
    "    documents.extend(web_loader.load())\n"
   ]
  },
  {
   "cell_type": "code",
   "execution_count": 49,
   "metadata": {},
   "outputs": [],
   "source": [
    "# Split text into chunks\n",
    "text_splitter = RecursiveCharacterTextSplitter(chunk_size=500, chunk_overlap=50)\n",
    "docs = text_splitter.split_documents(documents)"
   ]
  },
  {
   "cell_type": "code",
   "execution_count": 50,
   "metadata": {},
   "outputs": [],
   "source": [
    "# Generate embeddings using SentenceTransformer\n",
    "embeddings = SentenceTransformerEmbeddings(model_name=\"all-MiniLM-L6-v2\")\n",
    "vectorstore = FAISS.from_documents(docs, embeddings)"
   ]
  },
  {
   "cell_type": "code",
   "execution_count": 51,
   "metadata": {},
   "outputs": [],
   "source": [
    "# Create retriever\n",
    "retriever = vectorstore.as_retriever()\n",
    "\n",
    "# Define a custom prompt template\n",
    "prompt_template = PromptTemplate(\n",
    "    template=\"You are an AI assistant. Answer the following question based on the provided context.\\n\\nContext: {context}\\n\\nQuestion: {question}\\n\\nAnswer:\",\n",
    "    input_variables=[\"context\", \"question\"]\n",
    ")\n"
   ]
  },
  {
   "cell_type": "code",
   "execution_count": 52,
   "metadata": {},
   "outputs": [],
   "source": [
    "# Initialize Groq LLM\n",
    "llm = ChatGroq(\n",
    "    model=\"llama-3.1-8b-instant\",\n",
    "    temperature=0,\n",
    "    max_tokens=None,\n",
    "    timeout=None,\n",
    "    max_retries=2\n",
    ")"
   ]
  },
  {
   "cell_type": "code",
   "execution_count": 53,
   "metadata": {},
   "outputs": [],
   "source": [
    "# Initialize QA chain\n",
    "qa_chain = RetrievalQA.from_chain_type(\n",
    "    llm=llm,\n",
    "    retriever=retriever,\n",
    "    return_source_documents=True,\n",
    "    chain_type_kwargs={\"prompt\": prompt_template}\n",
    ")"
   ]
  },
  {
   "cell_type": "markdown",
   "metadata": {},
   "source": [
    "### TASK 2: ANALYSIS AND PROBLEM SOLVING ###"
   ]
  },
  {
   "cell_type": "code",
   "execution_count": 54,
   "metadata": {},
   "outputs": [
    {
     "name": "stdout",
     "output_type": "stream",
     "text": [
      "Retriever Model: FAISS (all-MiniLM-L6-v2)\n",
      "Generator Model: Groq LLaMA-3.1-8B\n"
     ]
    }
   ],
   "source": [
    "retriever_model = \"FAISS (all-MiniLM-L6-v2)\"\n",
    "generator_model = \"Groq LLaMA-3.1-8B\"\n",
    "\n",
    "# Document the models used\n",
    "print(f\"Retriever Model: {retriever_model}\")\n",
    "print(f\"Generator Model: {generator_model}\")\n",
    "\n",
    "# Analyze potential issues (hallucinations, unrelated responses)\n",
    "def analyze_response(question, response):\n",
    "    print(f\"Q: {question}\\nA: {response['result']}\\nSources: {[doc.metadata for doc in response['source_documents']]}\")"
   ]
  },
  {
   "cell_type": "markdown",
   "metadata": {},
   "source": [
    "### TASK 3: CHATBOT DEVELOPMENT & JSON OUTPUT ###"
   ]
  },
  {
   "cell_type": "code",
   "execution_count": 55,
   "metadata": {},
   "outputs": [],
   "source": [
    "questions = [\n",
    "    \"How old am I?\",\n",
    "    \"What is my highest level of education?\",\n",
    "    \"What major or field of study did I pursue during my education?\",\n",
    "    \"How many years of work experience do I have?\",\n",
    "    \"What type of work or industry have I been involved in?\",\n",
    "    \"Can you describe your current role or job responsibilities?\",\n",
    "    \"What are your core beliefs regarding the role of technology in shaping society?\",\n",
    "    \"How do you think cultural values should influence technological advancements?\",\n",
    "    \"As a master’s student, what is the most challenging aspect of your studies so far?\",\n",
    "    \"What specific research interests or academic goals do you hope to achieve during your time as a master’s student?\"\n",
    "]"
   ]
  },
  {
   "cell_type": "code",
   "execution_count": 56,
   "metadata": {},
   "outputs": [
    {
     "name": "stdout",
     "output_type": "stream",
     "text": [
      "Q: How old am I?\n",
      "A: You are 29 years old, as you were born on August 5, 1996.\n",
      "Sources: [{'producer': 'Microsoft® Word 2021', 'creator': 'Microsoft® Word 2021', 'creationdate': '2025-03-15T00:31:18+07:00', 'source': 'CV_Khin_Yadanar_Hlaing.pdf', 'file_path': 'CV_Khin_Yadanar_Hlaing.pdf', 'total_pages': 1, 'format': 'PDF 1.7', 'title': '', 'author': 'python-docx', 'subject': '', 'keywords': '', 'moddate': '2025-03-15T00:31:18+07:00', 'trapped': '', 'modDate': \"D:20250315003118+07'00'\", 'creationDate': \"D:20250315003118+07'00'\", 'page': 0}, {'producer': 'Microsoft® Word 2021', 'creator': 'Microsoft® Word 2021', 'creationdate': '2025-03-15T00:31:18+07:00', 'source': 'CV_Khin_Yadanar_Hlaing.pdf', 'file_path': 'CV_Khin_Yadanar_Hlaing.pdf', 'total_pages': 1, 'format': 'PDF 1.7', 'title': '', 'author': 'python-docx', 'subject': '', 'keywords': '', 'moddate': '2025-03-15T00:31:18+07:00', 'trapped': '', 'modDate': \"D:20250315003118+07'00'\", 'creationDate': \"D:20250315003118+07'00'\", 'page': 0}, {'producer': 'Microsoft® Word 2021', 'creator': 'Microsoft® Word 2021', 'creationdate': '2025-03-15T00:31:18+07:00', 'source': 'CV_Khin_Yadanar_Hlaing.pdf', 'file_path': 'CV_Khin_Yadanar_Hlaing.pdf', 'total_pages': 1, 'format': 'PDF 1.7', 'title': '', 'author': 'python-docx', 'subject': '', 'keywords': '', 'moddate': '2025-03-15T00:31:18+07:00', 'trapped': '', 'modDate': \"D:20250315003118+07'00'\", 'creationDate': \"D:20250315003118+07'00'\", 'page': 0}, {'producer': 'Microsoft® Word 2021', 'creator': 'Microsoft® Word 2021', 'creationdate': '2025-03-15T00:31:18+07:00', 'source': 'CV_Khin_Yadanar_Hlaing.pdf', 'file_path': 'CV_Khin_Yadanar_Hlaing.pdf', 'total_pages': 1, 'format': 'PDF 1.7', 'title': '', 'author': 'python-docx', 'subject': '', 'keywords': '', 'moddate': '2025-03-15T00:31:18+07:00', 'trapped': '', 'modDate': \"D:20250315003118+07'00'\", 'creationDate': \"D:20250315003118+07'00'\", 'page': 0}]\n",
      "Q: What is my highest level of education?\n",
      "A: Your highest level of education is a Bachelor of Engineering in Electronics.\n",
      "Sources: [{'producer': 'Microsoft® Word 2021', 'creator': 'Microsoft® Word 2021', 'creationdate': '2025-03-15T00:31:18+07:00', 'source': 'CV_Khin_Yadanar_Hlaing.pdf', 'file_path': 'CV_Khin_Yadanar_Hlaing.pdf', 'total_pages': 1, 'format': 'PDF 1.7', 'title': '', 'author': 'python-docx', 'subject': '', 'keywords': '', 'moddate': '2025-03-15T00:31:18+07:00', 'trapped': '', 'modDate': \"D:20250315003118+07'00'\", 'creationDate': \"D:20250315003118+07'00'\", 'page': 0}, {'producer': 'Microsoft® Word 2021', 'creator': 'Microsoft® Word 2021', 'creationdate': '2025-03-15T00:31:18+07:00', 'source': 'CV_Khin_Yadanar_Hlaing.pdf', 'file_path': 'CV_Khin_Yadanar_Hlaing.pdf', 'total_pages': 1, 'format': 'PDF 1.7', 'title': '', 'author': 'python-docx', 'subject': '', 'keywords': '', 'moddate': '2025-03-15T00:31:18+07:00', 'trapped': '', 'modDate': \"D:20250315003118+07'00'\", 'creationDate': \"D:20250315003118+07'00'\", 'page': 0}, {'producer': 'Microsoft® Word 2021', 'creator': 'Microsoft® Word 2021', 'creationdate': '2025-03-15T00:31:18+07:00', 'source': 'CV_Khin_Yadanar_Hlaing.pdf', 'file_path': 'CV_Khin_Yadanar_Hlaing.pdf', 'total_pages': 1, 'format': 'PDF 1.7', 'title': '', 'author': 'python-docx', 'subject': '', 'keywords': '', 'moddate': '2025-03-15T00:31:18+07:00', 'trapped': '', 'modDate': \"D:20250315003118+07'00'\", 'creationDate': \"D:20250315003118+07'00'\", 'page': 0}, {'producer': 'Microsoft® Word 2021', 'creator': 'Microsoft® Word 2021', 'creationdate': '2025-03-15T00:31:18+07:00', 'source': 'CV_Khin_Yadanar_Hlaing.pdf', 'file_path': 'CV_Khin_Yadanar_Hlaing.pdf', 'total_pages': 1, 'format': 'PDF 1.7', 'title': '', 'author': 'python-docx', 'subject': '', 'keywords': '', 'moddate': '2025-03-15T00:31:18+07:00', 'trapped': '', 'modDate': \"D:20250315003118+07'00'\", 'creationDate': \"D:20250315003118+07'00'\", 'page': 0}]\n",
      "Q: What major or field of study did I pursue during my education?\n",
      "A: You pursued a major or field of study in Electronics Engineering, as part of your Bachelor of Engineering in Electronics degree.\n",
      "Sources: [{'producer': 'Microsoft® Word 2021', 'creator': 'Microsoft® Word 2021', 'creationdate': '2025-03-15T00:31:18+07:00', 'source': 'CV_Khin_Yadanar_Hlaing.pdf', 'file_path': 'CV_Khin_Yadanar_Hlaing.pdf', 'total_pages': 1, 'format': 'PDF 1.7', 'title': '', 'author': 'python-docx', 'subject': '', 'keywords': '', 'moddate': '2025-03-15T00:31:18+07:00', 'trapped': '', 'modDate': \"D:20250315003118+07'00'\", 'creationDate': \"D:20250315003118+07'00'\", 'page': 0}, {'producer': 'Microsoft® Word 2021', 'creator': 'Microsoft® Word 2021', 'creationdate': '2025-03-15T00:31:18+07:00', 'source': 'CV_Khin_Yadanar_Hlaing.pdf', 'file_path': 'CV_Khin_Yadanar_Hlaing.pdf', 'total_pages': 1, 'format': 'PDF 1.7', 'title': '', 'author': 'python-docx', 'subject': '', 'keywords': '', 'moddate': '2025-03-15T00:31:18+07:00', 'trapped': '', 'modDate': \"D:20250315003118+07'00'\", 'creationDate': \"D:20250315003118+07'00'\", 'page': 0}, {'producer': 'Microsoft® Word 2021', 'creator': 'Microsoft® Word 2021', 'creationdate': '2025-03-15T00:31:18+07:00', 'source': 'CV_Khin_Yadanar_Hlaing.pdf', 'file_path': 'CV_Khin_Yadanar_Hlaing.pdf', 'total_pages': 1, 'format': 'PDF 1.7', 'title': '', 'author': 'python-docx', 'subject': '', 'keywords': '', 'moddate': '2025-03-15T00:31:18+07:00', 'trapped': '', 'modDate': \"D:20250315003118+07'00'\", 'creationDate': \"D:20250315003118+07'00'\", 'page': 0}, {'producer': 'Microsoft® Word 2021', 'creator': 'Microsoft® Word 2021', 'creationdate': '2025-03-15T00:31:18+07:00', 'source': 'CV_Khin_Yadanar_Hlaing.pdf', 'file_path': 'CV_Khin_Yadanar_Hlaing.pdf', 'total_pages': 1, 'format': 'PDF 1.7', 'title': '', 'author': 'python-docx', 'subject': '', 'keywords': '', 'moddate': '2025-03-15T00:31:18+07:00', 'trapped': '', 'modDate': \"D:20250315003118+07'00'\", 'creationDate': \"D:20250315003118+07'00'\", 'page': 0}]\n",
      "Q: How many years of work experience do I have?\n",
      "A: You have approximately 4 years of work experience in data analysis, network engineering, and business operations.\n",
      "Sources: [{'producer': 'Microsoft® Word 2021', 'creator': 'Microsoft® Word 2021', 'creationdate': '2025-03-15T00:31:18+07:00', 'source': 'CV_Khin_Yadanar_Hlaing.pdf', 'file_path': 'CV_Khin_Yadanar_Hlaing.pdf', 'total_pages': 1, 'format': 'PDF 1.7', 'title': '', 'author': 'python-docx', 'subject': '', 'keywords': '', 'moddate': '2025-03-15T00:31:18+07:00', 'trapped': '', 'modDate': \"D:20250315003118+07'00'\", 'creationDate': \"D:20250315003118+07'00'\", 'page': 0}, {'producer': 'Microsoft® Word 2021', 'creator': 'Microsoft® Word 2021', 'creationdate': '2025-03-15T00:31:18+07:00', 'source': 'CV_Khin_Yadanar_Hlaing.pdf', 'file_path': 'CV_Khin_Yadanar_Hlaing.pdf', 'total_pages': 1, 'format': 'PDF 1.7', 'title': '', 'author': 'python-docx', 'subject': '', 'keywords': '', 'moddate': '2025-03-15T00:31:18+07:00', 'trapped': '', 'modDate': \"D:20250315003118+07'00'\", 'creationDate': \"D:20250315003118+07'00'\", 'page': 0}, {'producer': 'Microsoft® Word 2021', 'creator': 'Microsoft® Word 2021', 'creationdate': '2025-03-15T00:31:18+07:00', 'source': 'CV_Khin_Yadanar_Hlaing.pdf', 'file_path': 'CV_Khin_Yadanar_Hlaing.pdf', 'total_pages': 1, 'format': 'PDF 1.7', 'title': '', 'author': 'python-docx', 'subject': '', 'keywords': '', 'moddate': '2025-03-15T00:31:18+07:00', 'trapped': '', 'modDate': \"D:20250315003118+07'00'\", 'creationDate': \"D:20250315003118+07'00'\", 'page': 0}, {'producer': 'Microsoft® Word 2021', 'creator': 'Microsoft® Word 2021', 'creationdate': '2025-03-15T00:31:18+07:00', 'source': 'CV_Khin_Yadanar_Hlaing.pdf', 'file_path': 'CV_Khin_Yadanar_Hlaing.pdf', 'total_pages': 1, 'format': 'PDF 1.7', 'title': '', 'author': 'python-docx', 'subject': '', 'keywords': '', 'moddate': '2025-03-15T00:31:18+07:00', 'trapped': '', 'modDate': \"D:20250315003118+07'00'\", 'creationDate': \"D:20250315003118+07'00'\", 'page': 0}]\n",
      "Q: What type of work or industry have I been involved in?\n",
      "A: Based on the provided context, you have been involved in the following types of work or industries:\n",
      "\n",
      "1. Data Analytics (Royal Express Delivery Service, 2022-2023)\n",
      "2. Network Engineering (Frontiir – Myanmar Net ISP, 2021-2022)\n",
      "3. Telecom Services Coordination (Innovis Telecom Services, 2020)\n",
      "4. Business Operations (Royal Express Delivery Service, as a Data Analyst)\n",
      "\n",
      "These industries are primarily related to technology, telecommunications, and data analysis.\n",
      "Sources: [{'producer': 'Microsoft® Word 2021', 'creator': 'Microsoft® Word 2021', 'creationdate': '2025-03-15T00:31:18+07:00', 'source': 'CV_Khin_Yadanar_Hlaing.pdf', 'file_path': 'CV_Khin_Yadanar_Hlaing.pdf', 'total_pages': 1, 'format': 'PDF 1.7', 'title': '', 'author': 'python-docx', 'subject': '', 'keywords': '', 'moddate': '2025-03-15T00:31:18+07:00', 'trapped': '', 'modDate': \"D:20250315003118+07'00'\", 'creationDate': \"D:20250315003118+07'00'\", 'page': 0}, {'producer': 'Microsoft® Word 2021', 'creator': 'Microsoft® Word 2021', 'creationdate': '2025-03-15T00:31:18+07:00', 'source': 'CV_Khin_Yadanar_Hlaing.pdf', 'file_path': 'CV_Khin_Yadanar_Hlaing.pdf', 'total_pages': 1, 'format': 'PDF 1.7', 'title': '', 'author': 'python-docx', 'subject': '', 'keywords': '', 'moddate': '2025-03-15T00:31:18+07:00', 'trapped': '', 'modDate': \"D:20250315003118+07'00'\", 'creationDate': \"D:20250315003118+07'00'\", 'page': 0}, {'producer': 'Microsoft® Word 2021', 'creator': 'Microsoft® Word 2021', 'creationdate': '2025-03-15T00:31:18+07:00', 'source': 'CV_Khin_Yadanar_Hlaing.pdf', 'file_path': 'CV_Khin_Yadanar_Hlaing.pdf', 'total_pages': 1, 'format': 'PDF 1.7', 'title': '', 'author': 'python-docx', 'subject': '', 'keywords': '', 'moddate': '2025-03-15T00:31:18+07:00', 'trapped': '', 'modDate': \"D:20250315003118+07'00'\", 'creationDate': \"D:20250315003118+07'00'\", 'page': 0}, {'producer': 'Microsoft® Word 2021', 'creator': 'Microsoft® Word 2021', 'creationdate': '2025-03-15T00:31:18+07:00', 'source': 'CV_Khin_Yadanar_Hlaing.pdf', 'file_path': 'CV_Khin_Yadanar_Hlaing.pdf', 'total_pages': 1, 'format': 'PDF 1.7', 'title': '', 'author': 'python-docx', 'subject': '', 'keywords': '', 'moddate': '2025-03-15T00:31:18+07:00', 'trapped': '', 'modDate': \"D:20250315003118+07'00'\", 'creationDate': \"D:20250315003118+07'00'\", 'page': 0}]\n",
      "Q: Can you describe your current role or job responsibilities?\n",
      "A: As a Business & Data Analyst, my current role involves working at Royal Express Delivery Service. My key responsibilities include:\n",
      "\n",
      "1. Building dashboards using SQL and Power BI to visualize and analyze business operations data.\n",
      "2. Collecting and analyzing data related to business operations to identify trends, patterns, and areas for improvement.\n",
      "3. Providing recommendations to the organization for business improvement based on the insights gained from data analysis.\n",
      "\n",
      "In essence, my role is to leverage data analytics to drive business growth, efficiency, and innovation at Royal Express Delivery Service.\n",
      "Sources: [{'producer': 'Microsoft® Word 2021', 'creator': 'Microsoft® Word 2021', 'creationdate': '2025-03-15T00:31:18+07:00', 'source': 'CV_Khin_Yadanar_Hlaing.pdf', 'file_path': 'CV_Khin_Yadanar_Hlaing.pdf', 'total_pages': 1, 'format': 'PDF 1.7', 'title': '', 'author': 'python-docx', 'subject': '', 'keywords': '', 'moddate': '2025-03-15T00:31:18+07:00', 'trapped': '', 'modDate': \"D:20250315003118+07'00'\", 'creationDate': \"D:20250315003118+07'00'\", 'page': 0}, {'producer': 'Microsoft® Word 2021', 'creator': 'Microsoft® Word 2021', 'creationdate': '2025-03-15T00:31:18+07:00', 'source': 'CV_Khin_Yadanar_Hlaing.pdf', 'file_path': 'CV_Khin_Yadanar_Hlaing.pdf', 'total_pages': 1, 'format': 'PDF 1.7', 'title': '', 'author': 'python-docx', 'subject': '', 'keywords': '', 'moddate': '2025-03-15T00:31:18+07:00', 'trapped': '', 'modDate': \"D:20250315003118+07'00'\", 'creationDate': \"D:20250315003118+07'00'\", 'page': 0}, {'producer': 'Microsoft® Word 2021', 'creator': 'Microsoft® Word 2021', 'creationdate': '2025-03-15T00:31:18+07:00', 'source': 'CV_Khin_Yadanar_Hlaing.pdf', 'file_path': 'CV_Khin_Yadanar_Hlaing.pdf', 'total_pages': 1, 'format': 'PDF 1.7', 'title': '', 'author': 'python-docx', 'subject': '', 'keywords': '', 'moddate': '2025-03-15T00:31:18+07:00', 'trapped': '', 'modDate': \"D:20250315003118+07'00'\", 'creationDate': \"D:20250315003118+07'00'\", 'page': 0}, {'producer': 'Microsoft® Word 2021', 'creator': 'Microsoft® Word 2021', 'creationdate': '2025-03-15T00:31:18+07:00', 'source': 'CV_Khin_Yadanar_Hlaing.pdf', 'file_path': 'CV_Khin_Yadanar_Hlaing.pdf', 'total_pages': 1, 'format': 'PDF 1.7', 'title': '', 'author': 'python-docx', 'subject': '', 'keywords': '', 'moddate': '2025-03-15T00:31:18+07:00', 'trapped': '', 'modDate': \"D:20250315003118+07'00'\", 'creationDate': \"D:20250315003118+07'00'\", 'page': 0}]\n",
      "Q: What are your core beliefs regarding the role of technology in shaping society?\n",
      "A: Based on the provided context, my core beliefs regarding the role of technology in shaping society are as follows:\n",
      "\n",
      "1. **Technology should drive efficiency and innovation while ensuring accessibility for all.** I believe that technology should be used to improve the quality of life for everyone, regardless of their socio-economic background or geographical location. This can be achieved by making technology accessible and user-friendly for all.\n",
      "\n",
      "2. **Ethical considerations are crucial in AI and automation.** As technology advances, it's essential to consider the ethical implications of AI and automation. This includes ensuring that these technologies are used in a way that respects human rights, promotes fairness, and minimizes harm.\n",
      "\n",
      "3. **Data-driven decision-making is essential for business growth.** I believe that data analysis and data-driven decision-making are critical for businesses to grow and succeed. By leveraging data insights, businesses can make informed decisions, identify areas for improvement, and optimize their operations.\n",
      "\n",
      "These core beliefs reflect my commitment to using technology to drive positive change and promote social good.\n",
      "Sources: [{'producer': 'Microsoft® Word 2021', 'creator': 'Microsoft® Word 2021', 'creationdate': '2025-03-15T00:31:18+07:00', 'source': 'CV_Khin_Yadanar_Hlaing.pdf', 'file_path': 'CV_Khin_Yadanar_Hlaing.pdf', 'total_pages': 1, 'format': 'PDF 1.7', 'title': '', 'author': 'python-docx', 'subject': '', 'keywords': '', 'moddate': '2025-03-15T00:31:18+07:00', 'trapped': '', 'modDate': \"D:20250315003118+07'00'\", 'creationDate': \"D:20250315003118+07'00'\", 'page': 0}, {'producer': 'Microsoft® Word 2021', 'creator': 'Microsoft® Word 2021', 'creationdate': '2025-03-15T00:31:18+07:00', 'source': 'CV_Khin_Yadanar_Hlaing.pdf', 'file_path': 'CV_Khin_Yadanar_Hlaing.pdf', 'total_pages': 1, 'format': 'PDF 1.7', 'title': '', 'author': 'python-docx', 'subject': '', 'keywords': '', 'moddate': '2025-03-15T00:31:18+07:00', 'trapped': '', 'modDate': \"D:20250315003118+07'00'\", 'creationDate': \"D:20250315003118+07'00'\", 'page': 0}, {'producer': 'Microsoft® Word 2021', 'creator': 'Microsoft® Word 2021', 'creationdate': '2025-03-15T00:31:18+07:00', 'source': 'CV_Khin_Yadanar_Hlaing.pdf', 'file_path': 'CV_Khin_Yadanar_Hlaing.pdf', 'total_pages': 1, 'format': 'PDF 1.7', 'title': '', 'author': 'python-docx', 'subject': '', 'keywords': '', 'moddate': '2025-03-15T00:31:18+07:00', 'trapped': '', 'modDate': \"D:20250315003118+07'00'\", 'creationDate': \"D:20250315003118+07'00'\", 'page': 0}, {'producer': 'Microsoft® Word 2021', 'creator': 'Microsoft® Word 2021', 'creationdate': '2025-03-15T00:31:18+07:00', 'source': 'CV_Khin_Yadanar_Hlaing.pdf', 'file_path': 'CV_Khin_Yadanar_Hlaing.pdf', 'total_pages': 1, 'format': 'PDF 1.7', 'title': '', 'author': 'python-docx', 'subject': '', 'keywords': '', 'moddate': '2025-03-15T00:31:18+07:00', 'trapped': '', 'modDate': \"D:20250315003118+07'00'\", 'creationDate': \"D:20250315003118+07'00'\", 'page': 0}]\n",
      "Q: How do you think cultural values should influence technological advancements?\n",
      "A: Based on the provided context, I believe cultural values should significantly influence technological advancements. According to Khin Yadanar Hlaing's core beliefs and cultural values, technological advancements should respect and integrate local cultures (point 8). This suggests that cultural adaptability is crucial to ensure global innovations remain relevant locally.\n",
      "\n",
      "In my opinion, cultural values should influence technological advancements in the following ways:\n",
      "\n",
      "1. **Respect for local customs and traditions**: Technological solutions should be designed to respect and incorporate local customs, traditions, and values, making them more acceptable and effective in the local context.\n",
      "2. **Inclusive design**: Technological advancements should be designed to be inclusive for all socio-economic backgrounds, ensuring that everyone has access to the benefits of technology, regardless of their background or financial situation.\n",
      "3. **Contextual understanding**: Technological solutions should be developed with a deep understanding of the local context, including the social, economic, and cultural nuances of the community.\n",
      "4. **Collaborative approach**: Technological advancements should be developed in collaboration with local stakeholders, including community leaders, experts, and end-users, to ensure that the solutions meet the needs and values of the community.\n",
      "\n",
      "By incorporating cultural values into technological advancements, we can create solutions that are more effective, sustainable, and beneficial to the community, ultimately driving positive social and economic impact.\n",
      "Sources: [{'producer': 'Microsoft® Word 2021', 'creator': 'Microsoft® Word 2021', 'creationdate': '2025-03-15T00:31:18+07:00', 'source': 'CV_Khin_Yadanar_Hlaing.pdf', 'file_path': 'CV_Khin_Yadanar_Hlaing.pdf', 'total_pages': 1, 'format': 'PDF 1.7', 'title': '', 'author': 'python-docx', 'subject': '', 'keywords': '', 'moddate': '2025-03-15T00:31:18+07:00', 'trapped': '', 'modDate': \"D:20250315003118+07'00'\", 'creationDate': \"D:20250315003118+07'00'\", 'page': 0}, {'producer': 'Microsoft® Word 2021', 'creator': 'Microsoft® Word 2021', 'creationdate': '2025-03-15T00:31:18+07:00', 'source': 'CV_Khin_Yadanar_Hlaing.pdf', 'file_path': 'CV_Khin_Yadanar_Hlaing.pdf', 'total_pages': 1, 'format': 'PDF 1.7', 'title': '', 'author': 'python-docx', 'subject': '', 'keywords': '', 'moddate': '2025-03-15T00:31:18+07:00', 'trapped': '', 'modDate': \"D:20250315003118+07'00'\", 'creationDate': \"D:20250315003118+07'00'\", 'page': 0}, {'producer': 'Microsoft® Word 2021', 'creator': 'Microsoft® Word 2021', 'creationdate': '2025-03-15T00:31:18+07:00', 'source': 'CV_Khin_Yadanar_Hlaing.pdf', 'file_path': 'CV_Khin_Yadanar_Hlaing.pdf', 'total_pages': 1, 'format': 'PDF 1.7', 'title': '', 'author': 'python-docx', 'subject': '', 'keywords': '', 'moddate': '2025-03-15T00:31:18+07:00', 'trapped': '', 'modDate': \"D:20250315003118+07'00'\", 'creationDate': \"D:20250315003118+07'00'\", 'page': 0}, {'producer': 'Microsoft® Word 2021', 'creator': 'Microsoft® Word 2021', 'creationdate': '2025-03-15T00:31:18+07:00', 'source': 'CV_Khin_Yadanar_Hlaing.pdf', 'file_path': 'CV_Khin_Yadanar_Hlaing.pdf', 'total_pages': 1, 'format': 'PDF 1.7', 'title': '', 'author': 'python-docx', 'subject': '', 'keywords': '', 'moddate': '2025-03-15T00:31:18+07:00', 'trapped': '', 'modDate': \"D:20250315003118+07'00'\", 'creationDate': \"D:20250315003118+07'00'\", 'page': 0}]\n",
      "Q: As a master’s student, what is the most challenging aspect of your studies so far?\n",
      "A: As a master's student, I must admit that the most challenging aspect of my studies so far has been balancing my academic responsibilities with my professional experience and personal life. Having approximately 4 years of experience in data analysis, network engineering, and business operations, I have developed a strong foundation in my field, but I'm now navigating the demands of graduate-level coursework.\n",
      "\n",
      "The transition from being a working professional to a full-time student has required me to adapt to a new routine and prioritize my time effectively. I've had to juggle assignments, readings, and projects while also maintaining my professional role as a Data Analyst at Royal Express Delivery Service.\n",
      "\n",
      "Additionally, as someone who is passionate about the intersection of technology and society, I find it challenging to navigate the theoretical aspects of my studies while also staying grounded in the practical applications of my field. However, I believe that this challenge is an opportunity for growth, and I'm excited to explore the latest advancements in my field and develop a deeper understanding of the complex issues surrounding technology's role in society.\n",
      "Sources: [{'producer': 'Microsoft® Word 2021', 'creator': 'Microsoft® Word 2021', 'creationdate': '2025-03-15T00:31:18+07:00', 'source': 'CV_Khin_Yadanar_Hlaing.pdf', 'file_path': 'CV_Khin_Yadanar_Hlaing.pdf', 'total_pages': 1, 'format': 'PDF 1.7', 'title': '', 'author': 'python-docx', 'subject': '', 'keywords': '', 'moddate': '2025-03-15T00:31:18+07:00', 'trapped': '', 'modDate': \"D:20250315003118+07'00'\", 'creationDate': \"D:20250315003118+07'00'\", 'page': 0}, {'producer': 'Microsoft® Word 2021', 'creator': 'Microsoft® Word 2021', 'creationdate': '2025-03-15T00:31:18+07:00', 'source': 'CV_Khin_Yadanar_Hlaing.pdf', 'file_path': 'CV_Khin_Yadanar_Hlaing.pdf', 'total_pages': 1, 'format': 'PDF 1.7', 'title': '', 'author': 'python-docx', 'subject': '', 'keywords': '', 'moddate': '2025-03-15T00:31:18+07:00', 'trapped': '', 'modDate': \"D:20250315003118+07'00'\", 'creationDate': \"D:20250315003118+07'00'\", 'page': 0}, {'producer': 'Microsoft® Word 2021', 'creator': 'Microsoft® Word 2021', 'creationdate': '2025-03-15T00:31:18+07:00', 'source': 'CV_Khin_Yadanar_Hlaing.pdf', 'file_path': 'CV_Khin_Yadanar_Hlaing.pdf', 'total_pages': 1, 'format': 'PDF 1.7', 'title': '', 'author': 'python-docx', 'subject': '', 'keywords': '', 'moddate': '2025-03-15T00:31:18+07:00', 'trapped': '', 'modDate': \"D:20250315003118+07'00'\", 'creationDate': \"D:20250315003118+07'00'\", 'page': 0}, {'producer': 'Microsoft® Word 2021', 'creator': 'Microsoft® Word 2021', 'creationdate': '2025-03-15T00:31:18+07:00', 'source': 'CV_Khin_Yadanar_Hlaing.pdf', 'file_path': 'CV_Khin_Yadanar_Hlaing.pdf', 'total_pages': 1, 'format': 'PDF 1.7', 'title': '', 'author': 'python-docx', 'subject': '', 'keywords': '', 'moddate': '2025-03-15T00:31:18+07:00', 'trapped': '', 'modDate': \"D:20250315003118+07'00'\", 'creationDate': \"D:20250315003118+07'00'\", 'page': 0}]\n",
      "Q: What specific research interests or academic goals do you hope to achieve during your time as a master’s student?\n",
      "A: Based on the provided context, it appears that Khin Yadanar Hlaing has a strong background in electronics engineering, data analysis, and business operations. Her work experience and core beliefs suggest a focus on the intersection of technology, innovation, and social responsibility.\n",
      "\n",
      "Given her interests and goals, I would infer that her specific research interests or academic goals as a master's student might include:\n",
      "\n",
      "1. Investigating the impact of technological advancements on local cultures and economies, with a focus on inclusive digital transformation.\n",
      "2. Exploring the role of data-driven decision-making in driving business growth and innovation, while ensuring accessibility and ethical considerations.\n",
      "3. Developing strategies for integrating local cultures into technological innovations, ensuring that global innovations remain relevant and beneficial to local communities.\n",
      "4. Investigating the potential of data analytics and AI in driving efficiency and innovation in various industries, including business operations and network engineering.\n",
      "\n",
      "Some potential research questions or academic goals that Khin Yadanar Hlaing might pursue as a master's student could include:\n",
      "\n",
      "* How can data analytics and AI be used to drive inclusive digital transformation in developing economies?\n",
      "* What are the key factors that influence the adoption of technological innovations in local cultures, and how can these be addressed?\n",
      "* How can business operations be optimized using data-driven decision-making, while ensuring accessibility and ethical considerations?\n",
      "* What are the potential benefits and challenges of integrating local cultures into technological innovations, and how can these be addressed?\n",
      "\n",
      "These are just a few examples, and Khin Yadanar Hlaing's specific research interests and goals may vary depending on her individual interests and career aspirations.\n",
      "Sources: [{'producer': 'Microsoft® Word 2021', 'creator': 'Microsoft® Word 2021', 'creationdate': '2025-03-15T00:31:18+07:00', 'source': 'CV_Khin_Yadanar_Hlaing.pdf', 'file_path': 'CV_Khin_Yadanar_Hlaing.pdf', 'total_pages': 1, 'format': 'PDF 1.7', 'title': '', 'author': 'python-docx', 'subject': '', 'keywords': '', 'moddate': '2025-03-15T00:31:18+07:00', 'trapped': '', 'modDate': \"D:20250315003118+07'00'\", 'creationDate': \"D:20250315003118+07'00'\", 'page': 0}, {'producer': 'Microsoft® Word 2021', 'creator': 'Microsoft® Word 2021', 'creationdate': '2025-03-15T00:31:18+07:00', 'source': 'CV_Khin_Yadanar_Hlaing.pdf', 'file_path': 'CV_Khin_Yadanar_Hlaing.pdf', 'total_pages': 1, 'format': 'PDF 1.7', 'title': '', 'author': 'python-docx', 'subject': '', 'keywords': '', 'moddate': '2025-03-15T00:31:18+07:00', 'trapped': '', 'modDate': \"D:20250315003118+07'00'\", 'creationDate': \"D:20250315003118+07'00'\", 'page': 0}, {'producer': 'Microsoft® Word 2021', 'creator': 'Microsoft® Word 2021', 'creationdate': '2025-03-15T00:31:18+07:00', 'source': 'CV_Khin_Yadanar_Hlaing.pdf', 'file_path': 'CV_Khin_Yadanar_Hlaing.pdf', 'total_pages': 1, 'format': 'PDF 1.7', 'title': '', 'author': 'python-docx', 'subject': '', 'keywords': '', 'moddate': '2025-03-15T00:31:18+07:00', 'trapped': '', 'modDate': \"D:20250315003118+07'00'\", 'creationDate': \"D:20250315003118+07'00'\", 'page': 0}, {'producer': 'Microsoft® Word 2021', 'creator': 'Microsoft® Word 2021', 'creationdate': '2025-03-15T00:31:18+07:00', 'source': 'CV_Khin_Yadanar_Hlaing.pdf', 'file_path': 'CV_Khin_Yadanar_Hlaing.pdf', 'total_pages': 1, 'format': 'PDF 1.7', 'title': '', 'author': 'python-docx', 'subject': '', 'keywords': '', 'moddate': '2025-03-15T00:31:18+07:00', 'trapped': '', 'modDate': \"D:20250315003118+07'00'\", 'creationDate': \"D:20250315003118+07'00'\", 'page': 0}]\n",
      "Responses saved to chatbot_responses.json\n"
     ]
    }
   ],
   "source": [
    "# Store responses in JSON format\n",
    "qa_responses = []\n",
    "for question in questions:\n",
    "    response = qa_chain.invoke({\"query\": question})\n",
    "    qa_responses.append({\"question\": question, \"answer\": response['result']})\n",
    "    analyze_response(question, response)\n",
    "\n",
    "# Save responses as JSON\n",
    "with open(\"chatbot_responses.json\", \"w\") as json_file:\n",
    "    json.dump(qa_responses, json_file, indent=4)\n",
    "\n",
    "print(\"Responses saved to chatbot_responses.json\")"
   ]
  },
  {
   "cell_type": "code",
   "execution_count": null,
   "metadata": {},
   "outputs": [],
   "source": []
  }
 ],
 "metadata": {
  "kernelspec": {
   "display_name": "pythonNLP",
   "language": "python",
   "name": "pythonnlp"
  },
  "language_info": {
   "codemirror_mode": {
    "name": "ipython",
    "version": 3
   },
   "file_extension": ".py",
   "mimetype": "text/x-python",
   "name": "python",
   "nbconvert_exporter": "python",
   "pygments_lexer": "ipython3",
   "version": "3.11.5"
  }
 },
 "nbformat": 4,
 "nbformat_minor": 2
}
